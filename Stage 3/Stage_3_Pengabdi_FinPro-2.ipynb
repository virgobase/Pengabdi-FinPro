{
  "cells": [
    {
      "cell_type": "code",
      "execution_count": 68,
      "metadata": {
        "id": "Ix7j5NQSA9g3"
      },
      "outputs": [],
      "source": [
        "# ignore Warnings\n",
        "import warnings\n",
        "warnings.filterwarnings('ignore')"
      ]
    },
    {
      "cell_type": "code",
      "execution_count": 69,
      "metadata": {
        "colab": {
          "base_uri": "https://localhost:8080/"
        },
        "id": "ioF0eDOrBHXW",
        "outputId": "4f5a59aa-8203-4b11-c33b-6953a9b57de7"
      },
      "outputs": [
        {
          "output_type": "stream",
          "name": "stdout",
          "text": [
            "Drive already mounted at /content/drive; to attempt to forcibly remount, call drive.mount(\"/content/drive\", force_remount=True).\n"
          ]
        }
      ],
      "source": [
        "from google.colab import drive\n",
        "drive.mount('/content/drive')"
      ]
    },
    {
      "cell_type": "code",
      "execution_count": null,
      "metadata": {
        "colab": {
          "base_uri": "https://localhost:8080/"
        },
        "id": "htzxiVyTBWfX",
        "outputId": "58aea8e5-3f8d-48a9-cb93-cd119391204b"
      },
      "outputs": [
        {
          "output_type": "stream",
          "name": "stdout",
          "text": [
            "Requirement already satisfied: pandas_profiling in /usr/local/lib/python3.10/dist-packages (3.6.6)\n",
            "Requirement already satisfied: ydata-profiling in /usr/local/lib/python3.10/dist-packages (from pandas_profiling) (4.5.1)\n",
            "Requirement already satisfied: scipy<1.12,>=1.4.1 in /usr/local/lib/python3.10/dist-packages (from ydata-profiling->pandas_profiling) (1.10.1)\n",
            "Requirement already satisfied: pandas!=1.4.0,<2.1,>1.1 in /usr/local/lib/python3.10/dist-packages (from ydata-profiling->pandas_profiling) (1.5.3)\n",
            "Requirement already satisfied: matplotlib<4,>=3.2 in /usr/local/lib/python3.10/dist-packages (from ydata-profiling->pandas_profiling) (3.7.1)\n",
            "Requirement already satisfied: pydantic<2,>=1.8.1 in /usr/local/lib/python3.10/dist-packages (from ydata-profiling->pandas_profiling) (1.10.12)\n",
            "Requirement already satisfied: PyYAML<6.1,>=5.0.0 in /usr/local/lib/python3.10/dist-packages (from ydata-profiling->pandas_profiling) (6.0.1)\n",
            "Requirement already satisfied: jinja2<3.2,>=2.11.1 in /usr/local/lib/python3.10/dist-packages (from ydata-profiling->pandas_profiling) (3.1.2)\n",
            "Requirement already satisfied: visions[type_image_path]==0.7.5 in /usr/local/lib/python3.10/dist-packages (from ydata-profiling->pandas_profiling) (0.7.5)\n",
            "Requirement already satisfied: numpy<1.24,>=1.16.0 in /usr/local/lib/python3.10/dist-packages (from ydata-profiling->pandas_profiling) (1.23.5)\n",
            "Requirement already satisfied: htmlmin==0.1.12 in /usr/local/lib/python3.10/dist-packages (from ydata-profiling->pandas_profiling) (0.1.12)\n",
            "Requirement already satisfied: phik<0.13,>=0.11.1 in /usr/local/lib/python3.10/dist-packages (from ydata-profiling->pandas_profiling) (0.12.3)\n",
            "Requirement already satisfied: requests<3,>=2.24.0 in /usr/local/lib/python3.10/dist-packages (from ydata-profiling->pandas_profiling) (2.31.0)\n",
            "Requirement already satisfied: tqdm<5,>=4.48.2 in /usr/local/lib/python3.10/dist-packages (from ydata-profiling->pandas_profiling) (4.66.1)\n",
            "Requirement already satisfied: seaborn<0.13,>=0.10.1 in /usr/local/lib/python3.10/dist-packages (from ydata-profiling->pandas_profiling) (0.12.2)\n",
            "Requirement already satisfied: multimethod<2,>=1.4 in /usr/local/lib/python3.10/dist-packages (from ydata-profiling->pandas_profiling) (1.9.1)\n",
            "Requirement already satisfied: statsmodels<1,>=0.13.2 in /usr/local/lib/python3.10/dist-packages (from ydata-profiling->pandas_profiling) (0.14.0)\n",
            "Requirement already satisfied: typeguard<3,>=2.13.2 in /usr/local/lib/python3.10/dist-packages (from ydata-profiling->pandas_profiling) (2.13.3)\n",
            "Requirement already satisfied: imagehash==4.3.1 in /usr/local/lib/python3.10/dist-packages (from ydata-profiling->pandas_profiling) (4.3.1)\n",
            "Requirement already satisfied: wordcloud>=1.9.1 in /usr/local/lib/python3.10/dist-packages (from ydata-profiling->pandas_profiling) (1.9.2)\n",
            "Requirement already satisfied: dacite>=1.8 in /usr/local/lib/python3.10/dist-packages (from ydata-profiling->pandas_profiling) (1.8.1)\n",
            "Requirement already satisfied: PyWavelets in /usr/local/lib/python3.10/dist-packages (from imagehash==4.3.1->ydata-profiling->pandas_profiling) (1.4.1)\n",
            "Requirement already satisfied: pillow in /usr/local/lib/python3.10/dist-packages (from imagehash==4.3.1->ydata-profiling->pandas_profiling) (9.4.0)\n",
            "Requirement already satisfied: attrs>=19.3.0 in /usr/local/lib/python3.10/dist-packages (from visions[type_image_path]==0.7.5->ydata-profiling->pandas_profiling) (23.1.0)\n",
            "Requirement already satisfied: networkx>=2.4 in /usr/local/lib/python3.10/dist-packages (from visions[type_image_path]==0.7.5->ydata-profiling->pandas_profiling) (3.1)\n",
            "Requirement already satisfied: tangled-up-in-unicode>=0.0.4 in /usr/local/lib/python3.10/dist-packages (from visions[type_image_path]==0.7.5->ydata-profiling->pandas_profiling) (0.2.0)\n",
            "Requirement already satisfied: MarkupSafe>=2.0 in /usr/local/lib/python3.10/dist-packages (from jinja2<3.2,>=2.11.1->ydata-profiling->pandas_profiling) (2.1.3)\n",
            "Requirement already satisfied: contourpy>=1.0.1 in /usr/local/lib/python3.10/dist-packages (from matplotlib<4,>=3.2->ydata-profiling->pandas_profiling) (1.1.0)\n",
            "Requirement already satisfied: cycler>=0.10 in /usr/local/lib/python3.10/dist-packages (from matplotlib<4,>=3.2->ydata-profiling->pandas_profiling) (0.11.0)\n",
            "Requirement already satisfied: fonttools>=4.22.0 in /usr/local/lib/python3.10/dist-packages (from matplotlib<4,>=3.2->ydata-profiling->pandas_profiling) (4.42.0)\n",
            "Requirement already satisfied: kiwisolver>=1.0.1 in /usr/local/lib/python3.10/dist-packages (from matplotlib<4,>=3.2->ydata-profiling->pandas_profiling) (1.4.4)\n",
            "Requirement already satisfied: packaging>=20.0 in /usr/local/lib/python3.10/dist-packages (from matplotlib<4,>=3.2->ydata-profiling->pandas_profiling) (23.1)\n",
            "Requirement already satisfied: pyparsing>=2.3.1 in /usr/local/lib/python3.10/dist-packages (from matplotlib<4,>=3.2->ydata-profiling->pandas_profiling) (3.1.1)\n",
            "Requirement already satisfied: python-dateutil>=2.7 in /usr/local/lib/python3.10/dist-packages (from matplotlib<4,>=3.2->ydata-profiling->pandas_profiling) (2.8.2)\n",
            "Requirement already satisfied: pytz>=2020.1 in /usr/local/lib/python3.10/dist-packages (from pandas!=1.4.0,<2.1,>1.1->ydata-profiling->pandas_profiling) (2023.3)\n",
            "Requirement already satisfied: joblib>=0.14.1 in /usr/local/lib/python3.10/dist-packages (from phik<0.13,>=0.11.1->ydata-profiling->pandas_profiling) (1.3.2)\n",
            "Requirement already satisfied: typing-extensions>=4.2.0 in /usr/local/lib/python3.10/dist-packages (from pydantic<2,>=1.8.1->ydata-profiling->pandas_profiling) (4.7.1)\n",
            "Requirement already satisfied: charset-normalizer<4,>=2 in /usr/local/lib/python3.10/dist-packages (from requests<3,>=2.24.0->ydata-profiling->pandas_profiling) (3.2.0)\n",
            "Requirement already satisfied: idna<4,>=2.5 in /usr/local/lib/python3.10/dist-packages (from requests<3,>=2.24.0->ydata-profiling->pandas_profiling) (3.4)\n",
            "Requirement already satisfied: urllib3<3,>=1.21.1 in /usr/local/lib/python3.10/dist-packages (from requests<3,>=2.24.0->ydata-profiling->pandas_profiling) (2.0.4)\n",
            "Requirement already satisfied: certifi>=2017.4.17 in /usr/local/lib/python3.10/dist-packages (from requests<3,>=2.24.0->ydata-profiling->pandas_profiling) (2023.7.22)\n",
            "Requirement already satisfied: patsy>=0.5.2 in /usr/local/lib/python3.10/dist-packages (from statsmodels<1,>=0.13.2->ydata-profiling->pandas_profiling) (0.5.3)\n",
            "Requirement already satisfied: six in /usr/local/lib/python3.10/dist-packages (from patsy>=0.5.2->statsmodels<1,>=0.13.2->ydata-profiling->pandas_profiling) (1.16.0)\n"
          ]
        }
      ],
      "source": [
        "pip install pandas_profiling"
      ]
    },
    {
      "cell_type": "code",
      "execution_count": 70,
      "metadata": {
        "id": "wZUv0YmGA9g6"
      },
      "outputs": [],
      "source": [
        "import math, time, random, datetime\n",
        "\n",
        "# data analysis and wrangling\n",
        "import pandas as pd\n",
        "import numpy as np\n",
        "from pandas_profiling import ProfileReport"
      ]
    },
    {
      "cell_type": "code",
      "execution_count": 71,
      "metadata": {
        "colab": {
          "base_uri": "https://localhost:8080/",
          "height": 17
        },
        "id": "JkrQTmJBA9g8",
        "outputId": "0e66fd9d-9fee-41ec-e845-57750e8e8119"
      },
      "outputs": [
        {
          "output_type": "display_data",
          "data": {
            "text/html": [
              "        <script type=\"text/javascript\">\n",
              "        window.PlotlyConfig = {MathJaxConfig: 'local'};\n",
              "        if (window.MathJax && window.MathJax.Hub && window.MathJax.Hub.Config) {window.MathJax.Hub.Config({SVG: {font: \"STIX-Web\"}});}\n",
              "        if (typeof require !== 'undefined') {\n",
              "        require.undef(\"plotly\");\n",
              "        requirejs.config({\n",
              "            paths: {\n",
              "                'plotly': ['https://cdn.plot.ly/plotly-2.24.1.min']\n",
              "            }\n",
              "        });\n",
              "        require(['plotly'], function(Plotly) {\n",
              "            window._Plotly = Plotly;\n",
              "        });\n",
              "        }\n",
              "        </script>\n",
              "        "
            ]
          },
          "metadata": {}
        }
      ],
      "source": [
        "# visualization\n",
        "import seaborn as sns\n",
        "import matplotlib.pyplot as plt\n",
        "plt.style.use('seaborn-whitegrid')\n",
        "\n",
        "#import for interactive plotting\n",
        "import plotly.offline as py\n",
        "py.init_notebook_mode(connected=True)\n",
        "import plotly.graph_objs as go\n",
        "import plotly.tools as tls\n",
        "import plotly.figure_factory as ff\n",
        "from plotly.subplots import make_subplots\n",
        "%matplotlib inline"
      ]
    },
    {
      "cell_type": "code",
      "execution_count": 72,
      "metadata": {
        "id": "Hmy6-QxkA9g9"
      },
      "outputs": [],
      "source": [
        "# Preprocessing\n",
        "from sklearn.preprocessing import OneHotEncoder, LabelEncoder, label_binarize, StandardScaler"
      ]
    },
    {
      "cell_type": "code",
      "execution_count": 73,
      "metadata": {
        "id": "cz5mLRPTA9g_"
      },
      "outputs": [],
      "source": [
        "# machine learning\n",
        "from sklearn import model_selection, tree, preprocessing, metrics, linear_model\n",
        "from sklearn.metrics import confusion_matrix,classification_report\n",
        "from sklearn.svm import SVC, LinearSVC\n",
        "from sklearn.ensemble import RandomForestClassifier, GradientBoostingClassifier\n",
        "from sklearn.neighbors import KNeighborsClassifier\n",
        "from sklearn.naive_bayes import GaussianNB\n",
        "from sklearn.linear_model import Perceptron,SGDClassifier,LogisticRegression\n",
        "from sklearn.tree import DecisionTreeClassifier\n",
        "from sklearn.model_selection import train_test_split,StratifiedKFold, GridSearchCV, learning_curve, cross_val_score"
      ]
    },
    {
      "cell_type": "markdown",
      "metadata": {
        "id": "7Ip0dEXLA9hA"
      },
      "source": [
        "# Import and Inspect Data"
      ]
    },
    {
      "cell_type": "code",
      "execution_count": null,
      "metadata": {
        "id": "6PMIGFhYA9hC"
      },
      "outputs": [],
      "source": [
        "df = pd.read_csv('/content/drive/MyDrive/Stage 3/Dataset FinPro.csv')"
      ]
    },
    {
      "cell_type": "code",
      "execution_count": null,
      "metadata": {
        "colab": {
          "base_uri": "https://localhost:8080/",
          "height": 325
        },
        "id": "pvbEIZ9CA9hE",
        "outputId": "db412812-ae8e-49ad-d6e8-61441981483f"
      },
      "outputs": [
        {
          "output_type": "execute_result",
          "data": {
            "text/plain": [
              "   Age Attrition     BusinessTravel  DailyRate              Department  \\\n",
              "0   41       Yes      Travel_Rarely       1102                   Sales   \n",
              "1   49        No  Travel_Frequently        279  Research & Development   \n",
              "2   37       Yes      Travel_Rarely       1373  Research & Development   \n",
              "3   33        No  Travel_Frequently       1392  Research & Development   \n",
              "4   27        No      Travel_Rarely        591  Research & Development   \n",
              "\n",
              "   DistanceFromHome  Education EducationField  EmployeeCount  EmployeeNumber  \\\n",
              "0                 1          2  Life Sciences              1               1   \n",
              "1                 8          1  Life Sciences              1               2   \n",
              "2                 2          2          Other              1               4   \n",
              "3                 3          4  Life Sciences              1               5   \n",
              "4                 2          1        Medical              1               7   \n",
              "\n",
              "   ...  RelationshipSatisfaction StandardHours  StockOptionLevel  \\\n",
              "0  ...                         1            80                 0   \n",
              "1  ...                         4            80                 1   \n",
              "2  ...                         2            80                 0   \n",
              "3  ...                         3            80                 0   \n",
              "4  ...                         4            80                 1   \n",
              "\n",
              "   TotalWorkingYears  TrainingTimesLastYear WorkLifeBalance  YearsAtCompany  \\\n",
              "0                  8                      0               1               6   \n",
              "1                 10                      3               3              10   \n",
              "2                  7                      3               3               0   \n",
              "3                  8                      3               3               8   \n",
              "4                  6                      3               3               2   \n",
              "\n",
              "  YearsInCurrentRole  YearsSinceLastPromotion  YearsWithCurrManager  \n",
              "0                  4                        0                     5  \n",
              "1                  7                        1                     7  \n",
              "2                  0                        0                     0  \n",
              "3                  7                        3                     0  \n",
              "4                  2                        2                     2  \n",
              "\n",
              "[5 rows x 35 columns]"
            ],
            "text/html": [
              "\n",
              "  <div id=\"df-ab33b364-5f46-4439-9228-8c5a282afa34\" class=\"colab-df-container\">\n",
              "    <div>\n",
              "<style scoped>\n",
              "    .dataframe tbody tr th:only-of-type {\n",
              "        vertical-align: middle;\n",
              "    }\n",
              "\n",
              "    .dataframe tbody tr th {\n",
              "        vertical-align: top;\n",
              "    }\n",
              "\n",
              "    .dataframe thead th {\n",
              "        text-align: right;\n",
              "    }\n",
              "</style>\n",
              "<table border=\"1\" class=\"dataframe\">\n",
              "  <thead>\n",
              "    <tr style=\"text-align: right;\">\n",
              "      <th></th>\n",
              "      <th>Age</th>\n",
              "      <th>Attrition</th>\n",
              "      <th>BusinessTravel</th>\n",
              "      <th>DailyRate</th>\n",
              "      <th>Department</th>\n",
              "      <th>DistanceFromHome</th>\n",
              "      <th>Education</th>\n",
              "      <th>EducationField</th>\n",
              "      <th>EmployeeCount</th>\n",
              "      <th>EmployeeNumber</th>\n",
              "      <th>...</th>\n",
              "      <th>RelationshipSatisfaction</th>\n",
              "      <th>StandardHours</th>\n",
              "      <th>StockOptionLevel</th>\n",
              "      <th>TotalWorkingYears</th>\n",
              "      <th>TrainingTimesLastYear</th>\n",
              "      <th>WorkLifeBalance</th>\n",
              "      <th>YearsAtCompany</th>\n",
              "      <th>YearsInCurrentRole</th>\n",
              "      <th>YearsSinceLastPromotion</th>\n",
              "      <th>YearsWithCurrManager</th>\n",
              "    </tr>\n",
              "  </thead>\n",
              "  <tbody>\n",
              "    <tr>\n",
              "      <th>0</th>\n",
              "      <td>41</td>\n",
              "      <td>Yes</td>\n",
              "      <td>Travel_Rarely</td>\n",
              "      <td>1102</td>\n",
              "      <td>Sales</td>\n",
              "      <td>1</td>\n",
              "      <td>2</td>\n",
              "      <td>Life Sciences</td>\n",
              "      <td>1</td>\n",
              "      <td>1</td>\n",
              "      <td>...</td>\n",
              "      <td>1</td>\n",
              "      <td>80</td>\n",
              "      <td>0</td>\n",
              "      <td>8</td>\n",
              "      <td>0</td>\n",
              "      <td>1</td>\n",
              "      <td>6</td>\n",
              "      <td>4</td>\n",
              "      <td>0</td>\n",
              "      <td>5</td>\n",
              "    </tr>\n",
              "    <tr>\n",
              "      <th>1</th>\n",
              "      <td>49</td>\n",
              "      <td>No</td>\n",
              "      <td>Travel_Frequently</td>\n",
              "      <td>279</td>\n",
              "      <td>Research &amp; Development</td>\n",
              "      <td>8</td>\n",
              "      <td>1</td>\n",
              "      <td>Life Sciences</td>\n",
              "      <td>1</td>\n",
              "      <td>2</td>\n",
              "      <td>...</td>\n",
              "      <td>4</td>\n",
              "      <td>80</td>\n",
              "      <td>1</td>\n",
              "      <td>10</td>\n",
              "      <td>3</td>\n",
              "      <td>3</td>\n",
              "      <td>10</td>\n",
              "      <td>7</td>\n",
              "      <td>1</td>\n",
              "      <td>7</td>\n",
              "    </tr>\n",
              "    <tr>\n",
              "      <th>2</th>\n",
              "      <td>37</td>\n",
              "      <td>Yes</td>\n",
              "      <td>Travel_Rarely</td>\n",
              "      <td>1373</td>\n",
              "      <td>Research &amp; Development</td>\n",
              "      <td>2</td>\n",
              "      <td>2</td>\n",
              "      <td>Other</td>\n",
              "      <td>1</td>\n",
              "      <td>4</td>\n",
              "      <td>...</td>\n",
              "      <td>2</td>\n",
              "      <td>80</td>\n",
              "      <td>0</td>\n",
              "      <td>7</td>\n",
              "      <td>3</td>\n",
              "      <td>3</td>\n",
              "      <td>0</td>\n",
              "      <td>0</td>\n",
              "      <td>0</td>\n",
              "      <td>0</td>\n",
              "    </tr>\n",
              "    <tr>\n",
              "      <th>3</th>\n",
              "      <td>33</td>\n",
              "      <td>No</td>\n",
              "      <td>Travel_Frequently</td>\n",
              "      <td>1392</td>\n",
              "      <td>Research &amp; Development</td>\n",
              "      <td>3</td>\n",
              "      <td>4</td>\n",
              "      <td>Life Sciences</td>\n",
              "      <td>1</td>\n",
              "      <td>5</td>\n",
              "      <td>...</td>\n",
              "      <td>3</td>\n",
              "      <td>80</td>\n",
              "      <td>0</td>\n",
              "      <td>8</td>\n",
              "      <td>3</td>\n",
              "      <td>3</td>\n",
              "      <td>8</td>\n",
              "      <td>7</td>\n",
              "      <td>3</td>\n",
              "      <td>0</td>\n",
              "    </tr>\n",
              "    <tr>\n",
              "      <th>4</th>\n",
              "      <td>27</td>\n",
              "      <td>No</td>\n",
              "      <td>Travel_Rarely</td>\n",
              "      <td>591</td>\n",
              "      <td>Research &amp; Development</td>\n",
              "      <td>2</td>\n",
              "      <td>1</td>\n",
              "      <td>Medical</td>\n",
              "      <td>1</td>\n",
              "      <td>7</td>\n",
              "      <td>...</td>\n",
              "      <td>4</td>\n",
              "      <td>80</td>\n",
              "      <td>1</td>\n",
              "      <td>6</td>\n",
              "      <td>3</td>\n",
              "      <td>3</td>\n",
              "      <td>2</td>\n",
              "      <td>2</td>\n",
              "      <td>2</td>\n",
              "      <td>2</td>\n",
              "    </tr>\n",
              "  </tbody>\n",
              "</table>\n",
              "<p>5 rows × 35 columns</p>\n",
              "</div>\n",
              "    <div class=\"colab-df-buttons\">\n",
              "\n",
              "  <div class=\"colab-df-container\">\n",
              "    <button class=\"colab-df-convert\" onclick=\"convertToInteractive('df-ab33b364-5f46-4439-9228-8c5a282afa34')\"\n",
              "            title=\"Convert this dataframe to an interactive table.\"\n",
              "            style=\"display:none;\">\n",
              "\n",
              "  <svg xmlns=\"http://www.w3.org/2000/svg\" height=\"24px\" viewBox=\"0 -960 960 960\">\n",
              "    <path d=\"M120-120v-720h720v720H120Zm60-500h600v-160H180v160Zm220 220h160v-160H400v160Zm0 220h160v-160H400v160ZM180-400h160v-160H180v160Zm440 0h160v-160H620v160ZM180-180h160v-160H180v160Zm440 0h160v-160H620v160Z\"/>\n",
              "  </svg>\n",
              "    </button>\n",
              "\n",
              "  <style>\n",
              "    .colab-df-container {\n",
              "      display:flex;\n",
              "      gap: 12px;\n",
              "    }\n",
              "\n",
              "    .colab-df-convert {\n",
              "      background-color: #E8F0FE;\n",
              "      border: none;\n",
              "      border-radius: 50%;\n",
              "      cursor: pointer;\n",
              "      display: none;\n",
              "      fill: #1967D2;\n",
              "      height: 32px;\n",
              "      padding: 0 0 0 0;\n",
              "      width: 32px;\n",
              "    }\n",
              "\n",
              "    .colab-df-convert:hover {\n",
              "      background-color: #E2EBFA;\n",
              "      box-shadow: 0px 1px 2px rgba(60, 64, 67, 0.3), 0px 1px 3px 1px rgba(60, 64, 67, 0.15);\n",
              "      fill: #174EA6;\n",
              "    }\n",
              "\n",
              "    .colab-df-buttons div {\n",
              "      margin-bottom: 4px;\n",
              "    }\n",
              "\n",
              "    [theme=dark] .colab-df-convert {\n",
              "      background-color: #3B4455;\n",
              "      fill: #D2E3FC;\n",
              "    }\n",
              "\n",
              "    [theme=dark] .colab-df-convert:hover {\n",
              "      background-color: #434B5C;\n",
              "      box-shadow: 0px 1px 3px 1px rgba(0, 0, 0, 0.15);\n",
              "      filter: drop-shadow(0px 1px 2px rgba(0, 0, 0, 0.3));\n",
              "      fill: #FFFFFF;\n",
              "    }\n",
              "  </style>\n",
              "\n",
              "    <script>\n",
              "      const buttonEl =\n",
              "        document.querySelector('#df-ab33b364-5f46-4439-9228-8c5a282afa34 button.colab-df-convert');\n",
              "      buttonEl.style.display =\n",
              "        google.colab.kernel.accessAllowed ? 'block' : 'none';\n",
              "\n",
              "      async function convertToInteractive(key) {\n",
              "        const element = document.querySelector('#df-ab33b364-5f46-4439-9228-8c5a282afa34');\n",
              "        const dataTable =\n",
              "          await google.colab.kernel.invokeFunction('convertToInteractive',\n",
              "                                                    [key], {});\n",
              "        if (!dataTable) return;\n",
              "\n",
              "        const docLinkHtml = 'Like what you see? Visit the ' +\n",
              "          '<a target=\"_blank\" href=https://colab.research.google.com/notebooks/data_table.ipynb>data table notebook</a>'\n",
              "          + ' to learn more about interactive tables.';\n",
              "        element.innerHTML = '';\n",
              "        dataTable['output_type'] = 'display_data';\n",
              "        await google.colab.output.renderOutput(dataTable, element);\n",
              "        const docLink = document.createElement('div');\n",
              "        docLink.innerHTML = docLinkHtml;\n",
              "        element.appendChild(docLink);\n",
              "      }\n",
              "    </script>\n",
              "  </div>\n",
              "\n",
              "\n",
              "<div id=\"df-fe099b8a-cfd7-40f1-aa8b-f0ce9d3c75df\">\n",
              "  <button class=\"colab-df-quickchart\" onclick=\"quickchart('df-fe099b8a-cfd7-40f1-aa8b-f0ce9d3c75df')\"\n",
              "            title=\"Suggest charts.\"\n",
              "            style=\"display:none;\">\n",
              "\n",
              "<svg xmlns=\"http://www.w3.org/2000/svg\" height=\"24px\"viewBox=\"0 0 24 24\"\n",
              "     width=\"24px\">\n",
              "    <g>\n",
              "        <path d=\"M19 3H5c-1.1 0-2 .9-2 2v14c0 1.1.9 2 2 2h14c1.1 0 2-.9 2-2V5c0-1.1-.9-2-2-2zM9 17H7v-7h2v7zm4 0h-2V7h2v10zm4 0h-2v-4h2v4z\"/>\n",
              "    </g>\n",
              "</svg>\n",
              "  </button>\n",
              "\n",
              "<style>\n",
              "  .colab-df-quickchart {\n",
              "    background-color: #E8F0FE;\n",
              "    border: none;\n",
              "    border-radius: 50%;\n",
              "    cursor: pointer;\n",
              "    display: none;\n",
              "    fill: #1967D2;\n",
              "    height: 32px;\n",
              "    padding: 0 0 0 0;\n",
              "    width: 32px;\n",
              "  }\n",
              "\n",
              "  .colab-df-quickchart:hover {\n",
              "    background-color: #E2EBFA;\n",
              "    box-shadow: 0px 1px 2px rgba(60, 64, 67, 0.3), 0px 1px 3px 1px rgba(60, 64, 67, 0.15);\n",
              "    fill: #174EA6;\n",
              "  }\n",
              "\n",
              "  [theme=dark] .colab-df-quickchart {\n",
              "    background-color: #3B4455;\n",
              "    fill: #D2E3FC;\n",
              "  }\n",
              "\n",
              "  [theme=dark] .colab-df-quickchart:hover {\n",
              "    background-color: #434B5C;\n",
              "    box-shadow: 0px 1px 3px 1px rgba(0, 0, 0, 0.15);\n",
              "    filter: drop-shadow(0px 1px 2px rgba(0, 0, 0, 0.3));\n",
              "    fill: #FFFFFF;\n",
              "  }\n",
              "</style>\n",
              "\n",
              "  <script>\n",
              "    async function quickchart(key) {\n",
              "      const charts = await google.colab.kernel.invokeFunction(\n",
              "          'suggestCharts', [key], {});\n",
              "    }\n",
              "    (() => {\n",
              "      let quickchartButtonEl =\n",
              "        document.querySelector('#df-fe099b8a-cfd7-40f1-aa8b-f0ce9d3c75df button');\n",
              "      quickchartButtonEl.style.display =\n",
              "        google.colab.kernel.accessAllowed ? 'block' : 'none';\n",
              "    })();\n",
              "  </script>\n",
              "</div>\n",
              "    </div>\n",
              "  </div>\n"
            ]
          },
          "metadata": {},
          "execution_count": 155
        }
      ],
      "source": [
        "df.head()"
      ]
    },
    {
      "cell_type": "code",
      "execution_count": null,
      "metadata": {
        "colab": {
          "base_uri": "https://localhost:8080/"
        },
        "id": "7bR6OVc6A9hF",
        "outputId": "61654fb7-e777-4e28-fa4e-5a0df30e76e5",
        "scrolled": true
      },
      "outputs": [
        {
          "output_type": "execute_result",
          "data": {
            "text/plain": [
              "(1470, 35)"
            ]
          },
          "metadata": {},
          "execution_count": 156
        }
      ],
      "source": [
        "df.shape"
      ]
    },
    {
      "cell_type": "markdown",
      "metadata": {
        "id": "_7ZqYofGA9hG"
      },
      "source": [
        "# Data Summary"
      ]
    },
    {
      "cell_type": "code",
      "execution_count": null,
      "metadata": {
        "colab": {
          "base_uri": "https://localhost:8080/",
          "height": 49,
          "referenced_widgets": [
            "2cac3b889f864858930c61f7c876f97c",
            "60789425f61946af82d148fa48816afd",
            "5cd601899afb4b7ba38eababdd5c68b4",
            "aa374835b67d4a8baa98410e72a25bef",
            "2af41556e3c84e71a58399919a125de7",
            "bc3a0b7370e74cc0b2e84695639d89f0",
            "6c2e4046b0aa4ecdaa6a6c968566ad05",
            "5f0b5862cb9d4e59999e96b9cc243398",
            "38a33eb7d79f4be582422c1ed4a9effe",
            "cb0983eac03449bd9da4aaea9408ea24",
            "a6832b59bbf24e2cbba438e6f535bbb1"
          ]
        },
        "id": "GUQl24WBA9hI",
        "outputId": "886839e3-a2e7-4036-c8b9-2c60e6dd840d"
      },
      "outputs": [
        {
          "output_type": "display_data",
          "data": {
            "text/plain": [
              "Summarize dataset:   0%|          | 0/5 [00:00<?, ?it/s]"
            ],
            "application/vnd.jupyter.widget-view+json": {
              "version_major": 2,
              "version_minor": 0,
              "model_id": "2cac3b889f864858930c61f7c876f97c"
            }
          },
          "metadata": {}
        }
      ],
      "source": [
        "ProfileReport(df)"
      ]
    },
    {
      "cell_type": "code",
      "execution_count": null,
      "metadata": {
        "id": "B2aAtdkBA9hJ"
      },
      "outputs": [],
      "source": [
        "df['Attrition'] = df['Attrition'].apply(lambda x:1 if x == \"Yes\" else 0 )\n",
        "df['OverTime'] = df['OverTime'].apply(lambda x:1 if x ==\"Yes\" else 0 )"
      ]
    },
    {
      "cell_type": "code",
      "execution_count": null,
      "metadata": {
        "id": "rhidHmMGA9hK"
      },
      "outputs": [],
      "source": [
        "# Define visualization for categorical features\n",
        "\n",
        "def categorical_column_viz(col_name):\n",
        "    f, ax = plt.subplots(1, 2, figsize=(10, 6))\n",
        "\n",
        "    # Count Plot\n",
        "    df[col_name].value_counts().plot.bar(cmap='Set1', ax=ax[0])\n",
        "    ax[0].set_title(f'Number of Employee by {col_name}')\n",
        "    ax[0].set_ylabel('Count')\n",
        "    ax[0].set_xlabel(f'{col_name}')\n",
        "\n",
        "    # Attrition Count per factors\n",
        "    sns.countplot(x=col_name, hue='Attrition', data=df, ax=ax[1], palette='Set1')\n",
        "    ax[1].set_title(f'Attrition by {col_name}')\n",
        "    ax[1].set_xlabel(f'{col_name}')\n",
        "    ax[1].set_ylabel('Count')"
      ]
    },
    {
      "cell_type": "code",
      "execution_count": null,
      "metadata": {
        "id": "-SvN5RNBA9hM"
      },
      "outputs": [],
      "source": [
        "# Define visualization for numerical features\n",
        "\n",
        "def numerical_column_viz(col_name):\n",
        "    f,ax = plt.subplots(1,2, figsize=(18,6))\n",
        "    sns.kdeplot(attrition[col_name], label='Employee who left',ax=ax[0], shade=True, color='palegreen')\n",
        "    sns.kdeplot(no_attrition[col_name], label='Employee who stayed', ax=ax[0], shade=True, color='salmon')\n",
        "\n",
        "    sns.boxplot(y=col_name, x='Attrition',data=df, palette='Set3', ax=ax[1])"
      ]
    },
    {
      "cell_type": "markdown",
      "metadata": {
        "id": "upmLxvyZA9hN"
      },
      "source": [
        "## Extracting Features"
      ]
    },
    {
      "cell_type": "code",
      "execution_count": null,
      "metadata": {
        "id": "CwXTzrbkA9hO"
      },
      "outputs": [],
      "source": [
        "# drop the unnecessary columns (based EDA Stage 1)\n",
        "df.drop(['EmployeeNumber','Over18','StandardHours','EmployeeCount'],axis=1,inplace=True)"
      ]
    },
    {
      "cell_type": "code",
      "execution_count": null,
      "metadata": {
        "id": "m0HE2fJ8A9hR"
      },
      "outputs": [],
      "source": [
        "df.info()"
      ]
    },
    {
      "cell_type": "code",
      "execution_count": null,
      "metadata": {
        "id": "1CqCYWWAA9hS"
      },
      "outputs": [],
      "source": [
        "# 'EnviornmentSatisfaction', 'JobInvolvement', 'JobSatisfacction', 'RelationshipSatisfaction', 'WorklifeBalance' can be clubbed into a single feature 'Accumulated_Satisfaction'\n",
        "\n",
        "df['Accumulated_Satisfaction'] = (df['EnvironmentSatisfaction'] +\n",
        "                            df['JobInvolvement'] +\n",
        "                            df['JobSatisfaction'] +\n",
        "                            df['RelationshipSatisfaction'] +\n",
        "                            df['WorkLifeBalance']) /5"
      ]
    },
    {
      "cell_type": "code",
      "execution_count": null,
      "metadata": {
        "id": "tc-LPiWxA9hU"
      },
      "outputs": [],
      "source": [
        "attrition = df[df['Attrition'] == 1]\n",
        "no_attrition = df[df['Attrition']==0]"
      ]
    },
    {
      "cell_type": "code",
      "execution_count": null,
      "metadata": {
        "id": "kCOjaHhQA9hV"
      },
      "outputs": [],
      "source": [
        "numerical_column_viz('Accumulated_Satisfaction')"
      ]
    },
    {
      "cell_type": "code",
      "execution_count": null,
      "metadata": {
        "id": "13ERYvlBA9hX"
      },
      "outputs": [],
      "source": [
        "df.Accumulated_Satisfaction.describe()"
      ]
    },
    {
      "cell_type": "code",
      "execution_count": null,
      "metadata": {
        "id": "YzbgjYAdA9hY"
      },
      "outputs": [],
      "source": [
        "df.corr()"
      ]
    },
    {
      "cell_type": "code",
      "execution_count": null,
      "metadata": {
        "id": "BnpoquRFA9hZ"
      },
      "outputs": [],
      "source": [
        "# Because Accumulated_Satisfaction has higher correlation to Attrition compared to its constituents, then we consider to drop them all\n",
        "\n",
        "df.drop(['EnvironmentSatisfaction', 'JobInvolvement', 'JobSatisfaction', 'RelationshipSatisfaction', 'WorkLifeBalance'],axis=1,inplace=True)"
      ]
    },
    {
      "cell_type": "code",
      "execution_count": null,
      "metadata": {
        "id": "JdLQVJRMA9hb"
      },
      "outputs": [],
      "source": [
        "df.info()"
      ]
    },
    {
      "cell_type": "code",
      "execution_count": null,
      "metadata": {
        "id": "Ii8d0-ZkA9hc"
      },
      "outputs": [],
      "source": [
        "# Extract new feature #2 'YearsWorkingPerCompany'\n",
        "\n",
        "df['YearsWorkingPerCompany'] = df['TotalWorkingYears'] / df['NumCompaniesWorked']\n",
        "df.head()"
      ]
    },
    {
      "cell_type": "code",
      "execution_count": null,
      "metadata": {
        "id": "SMviip-NA9hd"
      },
      "outputs": [],
      "source": [
        "df['YearsWorkingPerCompany'].describe()"
      ]
    },
    {
      "cell_type": "code",
      "execution_count": null,
      "metadata": {
        "id": "baBtXA4oA9he"
      },
      "outputs": [],
      "source": [
        "df.info()"
      ]
    },
    {
      "cell_type": "code",
      "execution_count": null,
      "metadata": {
        "id": "PHE_9zIOA9hf"
      },
      "outputs": [],
      "source": [
        "# Karena terdapat data pada fitur YearsWorkingPerCompany berupa inf, maka akan dilakukan modif pada fitur NumCompaniesWorked, TotalWorkingYears, dan YearsAtCOmpany\n",
        "\n",
        "df.drop(df[(df['NumCompaniesWorked'] == 0) & (df['YearsAtCompany'] != df['TotalWorkingYears'])].index, axis=0, inplace=True)\n"
      ]
    },
    {
      "cell_type": "code",
      "execution_count": null,
      "metadata": {
        "id": "bxBjkiwQA9hg"
      },
      "outputs": [],
      "source": [
        "df.info()"
      ]
    },
    {
      "cell_type": "code",
      "execution_count": null,
      "metadata": {
        "id": "BwPfNJH4A9hh"
      },
      "outputs": [],
      "source": [
        "df['YearsWorkingPerCompany'].describe()"
      ]
    },
    {
      "cell_type": "code",
      "execution_count": null,
      "metadata": {
        "id": "pWp7eE5aA9hi"
      },
      "outputs": [],
      "source": [
        "attrition = df[df['Attrition'] == 1]\n",
        "no_attrition = df[df['Attrition']==0]"
      ]
    },
    {
      "cell_type": "code",
      "execution_count": null,
      "metadata": {
        "id": "4yokeln2A9hj"
      },
      "outputs": [],
      "source": [
        "numerical_column_viz('YearsWorkingPerCompany')"
      ]
    },
    {
      "cell_type": "markdown",
      "metadata": {
        "id": "ELq5Y8QWA9hk"
      },
      "source": [
        "## Data Cleansing"
      ]
    },
    {
      "cell_type": "markdown",
      "metadata": {
        "id": "CuZ8RCd0A9hk"
      },
      "source": [
        "Berdasarkan EDA (Stage 1) sebelumnya, maka akan dilakukan data cleansing sebagai berikut :"
      ]
    },
    {
      "cell_type": "markdown",
      "metadata": {
        "id": "b-_PXwnWA9hl"
      },
      "source": [
        "1. Missing value: There's **no missing value in dataset**\n",
        "2. Duplicates: There's **no duplicates in dataset**\n",
        "3. Handle Outliers: **handling outlier with zscore > 3**\n",
        "4. Feature transformation: **perform transfor log1p for positiveskewed distribution features**"
      ]
    },
    {
      "cell_type": "code",
      "execution_count": null,
      "metadata": {
        "id": "dpTJGKqGA9hm"
      },
      "outputs": [],
      "source": [
        "#Transform Possitively Skewed Features\n",
        "positively_skewed_features = ['DistanceFromHome', 'MonthlyIncome', 'TotalWorkingYears',\n",
        "                         'YearsAtCompany', 'YearsInCurrentRole', 'YearsWithCurrManager','PercentSalaryHike', 'YearsWorkingPerCompany']\n",
        "\n",
        "# Log-transform the positively skewed features\n",
        "for feature in positively_skewed_features:\n",
        "    df[feature] = np.log1p(df[feature])\n",
        "\n",
        "# Check the resulting DataFrame\n",
        "print(df.head())"
      ]
    },
    {
      "cell_type": "code",
      "execution_count": null,
      "metadata": {
        "id": "2bRKEtwcA9hn"
      },
      "outputs": [],
      "source": [
        "df[positively_skewed_features].describe()"
      ]
    },
    {
      "cell_type": "markdown",
      "metadata": {
        "id": "rp9c3VbbA9hn"
      },
      "source": [
        "### Handling Outliers"
      ]
    },
    {
      "cell_type": "code",
      "execution_count": null,
      "metadata": {
        "id": "GqpKW0T1A9ho"
      },
      "outputs": [],
      "source": [
        "# Step 1: Calculate Z-scores for each feature\n",
        "z_scores = pd.DataFrame()\n",
        "for col in df.columns:\n",
        "    if df[col].dtype in [int, float]:\n",
        "        z_scores[col] = (df[col] - df[col].mean()) / df[col].std()\n",
        "\n",
        "# Step 2: Identify rows with Z-scores greater than a threshold (e.g., 3 or -3)\n",
        "threshold = 3\n",
        "outlier_flags_zscore = (z_scores.abs() > threshold).any(axis=1)\n",
        "\n",
        "# Step 3: Calculate the IQR for each feature\n",
        "q1 = df.quantile(0.25)\n",
        "q3 = df.quantile(0.75)\n",
        "iqr = q3 - q1\n",
        "\n",
        "# Step 4: Define the upper and lower bounds for outliers using IQR method\n",
        "lower_bound_iqr = q1 - 1.5 * iqr\n",
        "upper_bound_iqr = q3 + 1.5 * iqr\n",
        "\n",
        "# Step 5: Identify rows with values outside the bounds (IQR method)\n",
        "outlier_flags_iqr = ((df < lower_bound_iqr) | (df > upper_bound_iqr)).any(axis=1)\n",
        "\n",
        "# Check the number of rows before and after handling outliers for both techniques\n",
        "print(\"Number of rows before handling outliers (Original):\", len(df))\n",
        "print(\"Number of rows after handling outliers (Z-score method):\", len(df[~outlier_flags_zscore]))\n",
        "print(\"Number of rows after handling outliers (IQR method):\", len(df[~outlier_flags_iqr]))"
      ]
    },
    {
      "cell_type": "markdown",
      "metadata": {
        "id": "Iw6mE3ROmTZi"
      },
      "source": [
        "**Decided to use z-score method**"
      ]
    },
    {
      "cell_type": "code",
      "execution_count": null,
      "metadata": {
        "id": "SGUlRnmsmZE7"
      },
      "outputs": [],
      "source": [
        "# Remove the rows with flagged Z-scores (outliers)\n",
        "df = df[~outlier_flags_zscore]\n",
        "\n",
        "# Check the resulting DataFrame after removing outliers\n",
        "print(df.head())"
      ]
    },
    {
      "cell_type": "code",
      "execution_count": null,
      "metadata": {
        "id": "ftiamEohA9hr"
      },
      "outputs": [],
      "source": [
        "df.describe()"
      ]
    },
    {
      "cell_type": "markdown",
      "metadata": {
        "id": "Ubq62p39A9hs"
      },
      "source": [
        "### Encode Categorical Features"
      ]
    },
    {
      "cell_type": "code",
      "execution_count": null,
      "metadata": {
        "id": "LB9M-OuUA9ht"
      },
      "outputs": [],
      "source": [
        "# We will encode the selected categorical features\n",
        "\n",
        "features_to_onehot_encode = ['BusinessTravel', 'Department', 'EducationField',\n",
        "                            'MaritalStatus', 'JobRole']\n",
        "\n",
        "# One-hot encode the selected features\n",
        "df = pd.get_dummies(df, columns=features_to_onehot_encode)\n",
        "df.head()"
      ]
    },
    {
      "cell_type": "code",
      "execution_count": null,
      "metadata": {
        "id": "r26v98mYA9hu"
      },
      "outputs": [],
      "source": [
        "df['Gender'] = df['Gender'].apply(lambda x:1 if x ==\"Male\" else 0 )"
      ]
    },
    {
      "cell_type": "code",
      "execution_count": null,
      "metadata": {
        "id": "6hmTY1xlA9hu"
      },
      "outputs": [],
      "source": [
        "df.sample(10)"
      ]
    },
    {
      "cell_type": "code",
      "execution_count": null,
      "metadata": {
        "id": "BozqezqHA9hv"
      },
      "outputs": [],
      "source": [
        "df.describe()"
      ]
    },
    {
      "cell_type": "code",
      "execution_count": null,
      "metadata": {
        "id": "dQCgA72HA9hw"
      },
      "outputs": [],
      "source": [
        "df.info()"
      ]
    },
    {
      "cell_type": "markdown",
      "metadata": {
        "id": "uDukyHSaA9hx"
      },
      "source": [
        "### Split Data Train & Test"
      ]
    },
    {
      "cell_type": "code",
      "execution_count": null,
      "metadata": {
        "id": "_nqErLZqA9hx"
      },
      "outputs": [],
      "source": [
        "from sklearn.model_selection import train_test_split\n",
        "\n",
        "# Separate the target variable from the features\n",
        "X = df.drop('Attrition', axis=1)\n",
        "y = df['Attrition']\n",
        "\n",
        "# Split the data into training and testing sets (70% train, 30% test)\n",
        "X_train, X_test, y_train, y_test = train_test_split(X, y, test_size=0.30, random_state=42)\n",
        "\n",
        "# Check the shapes of the train and test sets\n",
        "print(\"X_train shape:\", X_train.shape)\n",
        "print(\"X_test shape:\", X_test.shape)\n",
        "print(\"y_train shape:\", y_train.shape)\n",
        "print(\"y_test shape:\", y_test.shape)"
      ]
    },
    {
      "cell_type": "markdown",
      "metadata": {
        "id": "fRWQEv2JA9hy"
      },
      "source": [
        "### Scale Data Train & Test"
      ]
    },
    {
      "cell_type": "code",
      "execution_count": null,
      "metadata": {
        "id": "fx4rAULTA9h0"
      },
      "outputs": [],
      "source": [
        "from sklearn.preprocessing import MinMaxScaler\n",
        "\n",
        "# Initialize the MinMaxScaler\n",
        "scaler = MinMaxScaler()\n",
        "\n",
        "# Fit and transform the training set\n",
        "X_train_scaled = scaler.fit_transform(X_train)\n",
        "\n",
        "# Transform the testing set using the same scaling\n",
        "X_test_scaled = scaler.transform(X_test)\n",
        "\n",
        "# Check the scaled data\n",
        "print(\"X_train_scaled:\\n\", X_train_scaled)\n",
        "print(\"X_test_scaled:\\n\", X_test_scaled)"
      ]
    },
    {
      "cell_type": "markdown",
      "metadata": {
        "id": "f_Jua1N6A9h1"
      },
      "source": [
        "### Handle Imbalance Class"
      ]
    },
    {
      "cell_type": "code",
      "execution_count": null,
      "metadata": {
        "id": "qeWwK4VWA9h2"
      },
      "outputs": [],
      "source": [
        "from imblearn.over_sampling import RandomOverSampler\n",
        "from collections import Counter\n",
        "\n",
        "# Check class distribution before oversampling\n",
        "print(\"Before oversampling:\", Counter(y_train))\n",
        "\n",
        "# Initialize the RandomOverSampler\n",
        "oversampler = RandomOverSampler(random_state=42)\n",
        "\n",
        "# Fit and apply the oversampler only to the training set\n",
        "X_train_resampled, y_train_resampled = oversampler.fit_resample(X_train_scaled, y_train)\n",
        "\n",
        "# Check class distribution after oversampling\n",
        "print(\"After oversampling:\", Counter(y_train_resampled))"
      ]
    },
    {
      "cell_type": "markdown",
      "metadata": {
        "id": "FmxVcwW1A9h3"
      },
      "source": [
        "### Feature Selection"
      ]
    },
    {
      "cell_type": "code",
      "execution_count": 117,
      "metadata": {
        "id": "E68iIW0qA9h4",
        "colab": {
          "base_uri": "https://localhost:8080/"
        },
        "outputId": "6e240a1b-c117-48b5-eeeb-883b73cc96f3"
      },
      "outputs": [
        {
          "output_type": "stream",
          "name": "stdout",
          "text": [
            "Age                                 -0.188209\n",
            "DailyRate                           -0.102016\n",
            "DistanceFromHome                     0.094112\n",
            "JobLevel                            -0.244937\n",
            "MonthlyIncome                       -0.277302\n",
            "OverTime                             0.295762\n",
            "StockOptionLevel                    -0.142361\n",
            "TotalWorkingYears                   -0.292519\n",
            "TrainingTimesLastYear               -0.081083\n",
            "YearsAtCompany                      -0.242391\n",
            "YearsInCurrentRole                  -0.216552\n",
            "YearsWithCurrManager                -0.231257\n",
            "Accumulated_Satisfaction            -0.269434\n",
            "YearsWorkingPerCompany              -0.268648\n",
            "BusinessTravel_Non-Travel           -0.151371\n",
            "BusinessTravel_Travel_Frequently     0.214879\n",
            "BusinessTravel_Travel_Rarely        -0.114497\n",
            "Department_Research & Development   -0.130844\n",
            "Department_Sales                     0.139799\n",
            "MaritalStatus_Divorced              -0.128017\n",
            "MaritalStatus_Married               -0.091326\n",
            "MaritalStatus_Single                 0.198954\n",
            "JobRole_Healthcare Representative   -0.167948\n",
            "JobRole_Laboratory Technician        0.154243\n",
            "JobRole_Manager                     -0.130960\n",
            "JobRole_Manufacturing Director      -0.122460\n",
            "JobRole_Research Director           -0.187044\n",
            "JobRole_Sales Representative         0.184594\n",
            "dtype: float64\n"
          ]
        }
      ],
      "source": [
        "# Convert the X_train_resampled array back to a DataFrame\n",
        "X_train_resampled_df = pd.DataFrame(X_train_resampled, columns=X_train.columns)\n",
        "\n",
        "# Calculate the correlation between each feature and the target variable 'Attrition'\n",
        "correlations = X_train_resampled_df.corrwith(y_train_resampled)\n",
        "\n",
        "# Filter features based on correlation threshold\n",
        "correlation_threshold = 0.07\n",
        "selected_features = correlations[(correlations > correlation_threshold) | (correlations < -correlation_threshold)]\n",
        "\n",
        "# Print the selected features and their correlations with 'Attrition'\n",
        "print(selected_features)"
      ]
    },
    {
      "cell_type": "markdown",
      "metadata": {
        "id": "4aRZv17-A9h5"
      },
      "source": [
        "### Recommendation Feature Outside This Dataset\n",
        "\n",
        "**Recommendations:**\n",
        "1. Performance Feedback: Frequency and quality of feedback received by the employee.\n",
        "2. Job Stability: The stability or likelihood of future job changes.\n",
        "3. Career Growth Opportunities: The perceived potential for career advancement within the company.\n",
        "4. Company Culture: Employee perceptions of the overall company culture and values.\n",
        "5. Employee Engagement: The level of employee commitment and emotional attachment to the organization."
      ]
    },
    {
      "cell_type": "markdown",
      "metadata": {
        "id": "8wrQ3uItA9h6"
      },
      "source": [
        "## Train Data"
      ]
    },
    {
      "cell_type": "code",
      "execution_count": 74,
      "metadata": {
        "id": "zun3SoNjA9h7"
      },
      "outputs": [],
      "source": [
        "from sklearn import metrics\n",
        "from sklearn.model_selection import cross_val_predict\n",
        "\n",
        "# Function that runs the requested algorithm and returns the precision and recall metrics\n",
        "def fit_ml_algo_for_precision(algo, X_train, y_train, cv):\n",
        "\n",
        "    # One Pass\n",
        "    model = algo.fit(X_train, y_train)\n",
        "    precision = round(metrics.precision_score(y_train, model.predict(X_train)) * 100, 2)\n",
        "\n",
        "    # Cross Validation\n",
        "    train_pred = cross_val_predict(algo, X_train, y_train, cv=cv, n_jobs=-1)\n",
        "\n",
        "    # Cross-validation precision and recall metrics\n",
        "    precision_cv = round(metrics.precision_score(y_train, train_pred) * 100, 2)\n",
        "\n",
        "    return train_pred, precision, precision_cv"
      ]
    },
    {
      "cell_type": "markdown",
      "metadata": {
        "id": "BmANvITVA9h7"
      },
      "source": [
        "### Logistic Regression"
      ]
    },
    {
      "cell_type": "code",
      "execution_count": 75,
      "metadata": {
        "id": "MzN2tzlkA9h8",
        "colab": {
          "base_uri": "https://localhost:8080/"
        },
        "outputId": "129db230-c81c-4b5d-eee0-4d1f6632daa9"
      },
      "outputs": [
        {
          "output_type": "stream",
          "name": "stdout",
          "text": [
            "Precision: 77.32\n",
            "Precision CV 10-Fold: 75.96\n",
            "Running Time: 0:00:02.140881\n"
          ]
        }
      ],
      "source": [
        "# Logistic Regression\n",
        "selected_feature_indices = [list(X_train.columns).index(feature) for feature in selected_features.index]\n",
        "\n",
        "X_train_selected = X_train_resampled[:, selected_feature_indices]\n",
        "\n",
        "start_time = time.time()\n",
        "train_pred_log, precision_log, precision_cv_log = fit_ml_algo_for_precision(LogisticRegression(), X_train_selected, y_train_resampled, 10)\n",
        "log_time = (time.time() - start_time)\n",
        "\n",
        "print(\"Precision: %s\" % precision_log)\n",
        "print(\"Precision CV 10-Fold: %s\" % precision_cv_log)\n",
        "print(\"Running Time: %s\" % datetime.timedelta(seconds=log_time))"
      ]
    },
    {
      "cell_type": "markdown",
      "metadata": {
        "id": "4ocXvF7eA9h9"
      },
      "source": [
        "### Support Vector Machine"
      ]
    },
    {
      "cell_type": "code",
      "execution_count": 104,
      "metadata": {
        "id": "_STdN9ksA9h9",
        "colab": {
          "base_uri": "https://localhost:8080/"
        },
        "outputId": "f18afd97-ab36-4d61-ec32-7042e2ea5644"
      },
      "outputs": [
        {
          "output_type": "stream",
          "name": "stdout",
          "text": [
            "Precision (SVC): 87.12\n",
            "Precision CV 10-Fold (SVC): 82.53\n",
            "Running Time (SVC): 0:00:02.489242\n"
          ]
        }
      ],
      "source": [
        "# SVC\n",
        "selected_feature_indices = [list(X_train.columns).index(feature) for feature in selected_features.index]\n",
        "\n",
        "X_train_selected = X_train_resampled[:, selected_feature_indices]\n",
        "\n",
        "start_time = time.time()\n",
        "train_pred_svc, precision_svc, precision_cv_svc = fit_ml_algo_for_precision(SVC(), X_train_selected, y_train_resampled, 10)\n",
        "svc_time = (time.time() - start_time)\n",
        "\n",
        "print(\"Precision (SVC): %s\" % precision_svc)\n",
        "print(\"Precision CV 10-Fold (SVC): %s\" % precision_cv_svc)\n",
        "print(\"Running Time (SVC): %s\" % datetime.timedelta(seconds=svc_time))"
      ]
    },
    {
      "cell_type": "markdown",
      "metadata": {
        "id": "PNgM4ClJA9h-"
      },
      "source": [
        "### Linear Support Vector Machines"
      ]
    },
    {
      "cell_type": "code",
      "execution_count": 105,
      "metadata": {
        "id": "BLqwV97OA9h_",
        "colab": {
          "base_uri": "https://localhost:8080/"
        },
        "outputId": "7321dec7-1570-40e1-88f9-95a4de1597cc"
      },
      "outputs": [
        {
          "output_type": "stream",
          "name": "stdout",
          "text": [
            "Precision (LinearSVC): 76.5\n",
            "Precision CV 10-Fold (LinearSVC): 76.01\n",
            "Running Time (LinearSVC): 0:00:00.537597\n"
          ]
        }
      ],
      "source": [
        "# Linear SVC\n",
        "selected_feature_indices = [list(X_train.columns).index(feature) for feature in selected_features.index]\n",
        "\n",
        "X_train_selected = X_train_resampled[:, selected_feature_indices]\n",
        "\n",
        "start_time = time.time()\n",
        "train_pred_linear_svc, precision_linear_svc, precision_cv_linear_svc = fit_ml_algo_for_precision(LinearSVC(), X_train_selected, y_train_resampled, 10)\n",
        "linear_svc_time = (time.time() - start_time)\n",
        "\n",
        "print(\"Precision (LinearSVC): %s\" % precision_linear_svc)\n",
        "print(\"Precision CV 10-Fold (LinearSVC): %s\" % precision_cv_linear_svc)\n",
        "print(\"Running Time (LinearSVC): %s\" % datetime.timedelta(seconds=linear_svc_time))"
      ]
    },
    {
      "cell_type": "markdown",
      "metadata": {
        "id": "EX7wmyFpA9iA"
      },
      "source": [
        "### K Nearest Neighbour"
      ]
    },
    {
      "cell_type": "code",
      "execution_count": 106,
      "metadata": {
        "id": "RCTgvsnYA9iA",
        "scrolled": true,
        "colab": {
          "base_uri": "https://localhost:8080/"
        },
        "outputId": "4431d5e5-6d5f-48e9-c6e8-50bad46d6290"
      },
      "outputs": [
        {
          "output_type": "stream",
          "name": "stdout",
          "text": [
            "Precision (KNeighborsClassifier): 90.64\n",
            "Precision CV 10-Fold (KNeighborsClassifier): 82.89\n",
            "Running Time (KNeighborsClassifier): 0:00:00.240037\n"
          ]
        }
      ],
      "source": [
        "# K Nearest Neighbour\n",
        "selected_feature_indices = [list(X_train.columns).index(feature) for feature in selected_features.index]\n",
        "\n",
        "X_train_selected = X_train_resampled[:, selected_feature_indices]\n",
        "\n",
        "start_time = time.time()\n",
        "train_pred_knn, precision_knn, precision_cv_knn = fit_ml_algo_for_precision(KNeighborsClassifier(n_neighbors=3), X_train_selected, y_train_resampled, 10)\n",
        "knn_time = (time.time() - start_time)\n",
        "\n",
        "print(\"Precision (KNeighborsClassifier): %s\" % precision_knn)\n",
        "print(\"Precision CV 10-Fold (KNeighborsClassifier): %s\" % precision_cv_knn)\n",
        "print(\"Running Time (KNeighborsClassifier): %s\" % datetime.timedelta(seconds=knn_time))"
      ]
    },
    {
      "cell_type": "markdown",
      "metadata": {
        "id": "b_NzR2Z0A9iB"
      },
      "source": [
        "### Gaussian Naive Bayes"
      ]
    },
    {
      "cell_type": "code",
      "execution_count": 107,
      "metadata": {
        "id": "lst1W5ifA9iC",
        "colab": {
          "base_uri": "https://localhost:8080/"
        },
        "outputId": "fcb29342-fb2f-439d-cd3a-c0b2b7e41b04"
      },
      "outputs": [
        {
          "output_type": "stream",
          "name": "stdout",
          "text": [
            "Precision (GaussianNB): 58.06\n",
            "Precision CV 10-Fold (GaussianNB): 58.13\n",
            "Running Time (GaussianNB): 0:00:00.066190\n"
          ]
        }
      ],
      "source": [
        "# Gaussian Naive Bayes\n",
        "selected_feature_indices = [list(X_train.columns).index(feature) for feature in selected_features.index]\n",
        "\n",
        "X_train_selected = X_train_resampled[:, selected_feature_indices]\n",
        "\n",
        "start_time = time.time()\n",
        "train_pred_gaussian, precision_gaussian, precision_cv_gaussian = fit_ml_algo_for_precision(GaussianNB(), X_train_selected, y_train_resampled, 10)\n",
        "gaussian_time = (time.time() - start_time)\n",
        "\n",
        "print(\"Precision (GaussianNB): %s\" % precision_gaussian)\n",
        "print(\"Precision CV 10-Fold (GaussianNB): %s\" % precision_cv_gaussian)\n",
        "print(\"Running Time (GaussianNB): %s\" % datetime.timedelta(seconds=gaussian_time))"
      ]
    },
    {
      "cell_type": "markdown",
      "metadata": {
        "id": "QgLUIdQ0A9iD"
      },
      "source": [
        "### Perceptron"
      ]
    },
    {
      "cell_type": "code",
      "execution_count": 108,
      "metadata": {
        "id": "X9hpnY_oA9iE",
        "scrolled": true,
        "colab": {
          "base_uri": "https://localhost:8080/"
        },
        "outputId": "427addda-7aa3-48fc-9e43-53f48e59ee34"
      },
      "outputs": [
        {
          "output_type": "stream",
          "name": "stdout",
          "text": [
            "Precision (Perceptron): 84.42\n",
            "Precision CV 10-Fold (Perceptron): 73.46\n",
            "Running Time (Perceptron): 0:00:00.102068\n"
          ]
        }
      ],
      "source": [
        "# Perceptron\n",
        "selected_feature_indices = [list(X_train.columns).index(feature) for feature in selected_features.index]\n",
        "\n",
        "X_train_selected = X_train_resampled[:, selected_feature_indices]\n",
        "\n",
        "start_time = time.time()\n",
        "train_pred_perceptron, precision_perceptron, precision_cv_perceptron= fit_ml_algo_for_precision(Perceptron(), X_train_selected, y_train_resampled, 10)\n",
        "perceptron_time = (time.time() - start_time)\n",
        "\n",
        "print(\"Precision (Perceptron): %s\" % precision_perceptron)\n",
        "print(\"Precision CV 10-Fold (Perceptron): %s\" % precision_cv_perceptron)\n",
        "print(\"Running Time (Perceptron): %s\" % datetime.timedelta(seconds=perceptron_time))"
      ]
    },
    {
      "cell_type": "markdown",
      "metadata": {
        "id": "dk57NBEoA9iF"
      },
      "source": [
        "### Stochastic Gradient Descent"
      ]
    },
    {
      "cell_type": "code",
      "execution_count": 109,
      "metadata": {
        "id": "Yob4bEa7A9iG",
        "colab": {
          "base_uri": "https://localhost:8080/"
        },
        "outputId": "959e8739-7055-40de-8156-025a3984e111"
      },
      "outputs": [
        {
          "output_type": "stream",
          "name": "stdout",
          "text": [
            "Precision (SGDClassifier): 68.76\n",
            "Precision CV 10-Fold (SGDClassifier): 73.68\n",
            "Running Time (SGDClassifier): 0:00:00.155707\n"
          ]
        }
      ],
      "source": [
        "# Stochastic Gradient Descent\n",
        "selected_feature_indices = [list(X_train.columns).index(feature) for feature in selected_features.index]\n",
        "\n",
        "X_train_selected = X_train_resampled[:, selected_feature_indices]\n",
        "\n",
        "start_time = time.time()\n",
        "train_pred_sgd, precision_sgd, precision_cv_sgd = fit_ml_algo_for_precision(SGDClassifier(), X_train_selected, y_train_resampled, 10)\n",
        "sgd_time = (time.time() - start_time)\n",
        "\n",
        "print(\"Precision (SGDClassifier): %s\" % precision_sgd)\n",
        "print(\"Precision CV 10-Fold (SGDClassifier): %s\" % precision_cv_sgd)\n",
        "print(\"Running Time (SGDClassifier): %s\" % datetime.timedelta(seconds=sgd_time))"
      ]
    },
    {
      "cell_type": "markdown",
      "metadata": {
        "id": "nJv9Vku9A9iH"
      },
      "source": [
        "### Decision Tree"
      ]
    },
    {
      "cell_type": "code",
      "execution_count": 110,
      "metadata": {
        "id": "-lOc_YInA9iI",
        "scrolled": true,
        "colab": {
          "base_uri": "https://localhost:8080/"
        },
        "outputId": "d24c2263-5d26-441e-8f72-f8253eeac652"
      },
      "outputs": [
        {
          "output_type": "stream",
          "name": "stdout",
          "text": [
            "Precision (DecisionTreeClassifier): 100.0\n",
            "Precision CV 10-Fold (DecisionTreeClassifier): 88.6\n",
            "Running Time (DecisionTreeClassifier): 0:00:00.131103\n"
          ]
        }
      ],
      "source": [
        "# Decision Tree\n",
        "selected_feature_indices = [list(X_train.columns).index(feature) for feature in selected_features.index]\n",
        "\n",
        "X_train_selected = X_train_resampled[:, selected_feature_indices]\n",
        "\n",
        "start_time = time.time()\n",
        "train_pred_dt, precision_dt, precision_cv_dt = fit_ml_algo_for_precision(DecisionTreeClassifier(), X_train_selected, y_train_resampled, 10)\n",
        "dt_time = (time.time() - start_time)\n",
        "\n",
        "print(\"Precision (DecisionTreeClassifier): %s\" % precision_dt)\n",
        "print(\"Precision CV 10-Fold (DecisionTreeClassifier): %s\" % precision_cv_dt)\n",
        "print(\"Running Time (DecisionTreeClassifier): %s\" % datetime.timedelta(seconds=dt_time))"
      ]
    },
    {
      "cell_type": "markdown",
      "metadata": {
        "id": "ffISmGtfA9iK"
      },
      "source": [
        "### Gradient Boosting Trees"
      ]
    },
    {
      "cell_type": "code",
      "execution_count": 111,
      "metadata": {
        "id": "STQ48CYSA9iL",
        "scrolled": true,
        "colab": {
          "base_uri": "https://localhost:8080/"
        },
        "outputId": "5c1f98cb-7900-431e-a31d-9b1e57887fa5"
      },
      "outputs": [
        {
          "output_type": "stream",
          "name": "stdout",
          "text": [
            "Precision (GradientBoostingClassifier): 94.67\n",
            "Precision CV 10-Fold (GradientBoostingClassifier): 89.16\n",
            "Running Time (GradientBoostingClassifier): 0:00:05.559824\n"
          ]
        }
      ],
      "source": [
        "# Gradient Boosting Trees\n",
        "selected_feature_indices = [list(X_train.columns).index(feature) for feature in selected_features.index]\n",
        "\n",
        "X_train_selected = X_train_resampled[:, selected_feature_indices]\n",
        "\n",
        "start_time = time.time()\n",
        "train_pred_gbt, precision_gbt, precision_cv_gbt = fit_ml_algo_for_precision(GradientBoostingClassifier(), X_train_selected, y_train_resampled, 10)\n",
        "gbt_time = (time.time() - start_time)\n",
        "\n",
        "print(\"Precision (GradientBoostingClassifier): %s\" % precision_gbt)\n",
        "print(\"Precision CV 10-Fold (GradientBoostingClassifier): %s\" % precision_cv_gbt)\n",
        "print(\"Running Time (GradientBoostingClassifier): %s\" % datetime.timedelta(seconds=gbt_time))"
      ]
    },
    {
      "cell_type": "markdown",
      "metadata": {
        "id": "gUK90wqIA9iM"
      },
      "source": [
        "### Random Forest"
      ]
    },
    {
      "cell_type": "code",
      "execution_count": 112,
      "metadata": {
        "id": "SC3djNUyA9iN",
        "colab": {
          "base_uri": "https://localhost:8080/"
        },
        "outputId": "5b23713c-6e4d-4e33-bbd4-1f3c49839fa9"
      },
      "outputs": [
        {
          "output_type": "stream",
          "name": "stdout",
          "text": [
            "Precision (RandomForestClassifier): 100.0\n",
            "Precision CV 10-Fold (RandomForestClassifier): 96.2\n",
            "Running Time (RandomForestClassifier): 0:00:02.543887\n"
          ]
        }
      ],
      "source": [
        "# Random Forest\n",
        "selected_feature_indices = [list(X_train.columns).index(feature) for feature in selected_features.index]\n",
        "\n",
        "X_train_selected = X_train_resampled[:, selected_feature_indices]\n",
        "\n",
        "start_time = time.time()\n",
        "train_pred_rf, precision_rf, precision_cv_rf= fit_ml_algo_for_precision(RandomForestClassifier(n_estimators=100), X_train_selected, y_train_resampled, 10)\n",
        "rf_time = (time.time() - start_time)\n",
        "\n",
        "print(\"Precision (RandomForestClassifier): %s\" % precision_rf)\n",
        "print(\"Precision CV 10-Fold (RandomForestClassifier): %s\" % precision_cv_rf)\n",
        "print(\"Running Time (RandomForestClassifier): %s\" % datetime.timedelta(seconds=rf_time))"
      ]
    },
    {
      "cell_type": "markdown",
      "metadata": {
        "id": "-_sfDSCTA9iO"
      },
      "source": [
        "## Training Model Results"
      ]
    },
    {
      "cell_type": "code",
      "execution_count": 113,
      "metadata": {
        "id": "ptLiA6i3A9iP",
        "colab": {
          "base_uri": "https://localhost:8080/"
        },
        "outputId": "5e0290d6-10a5-4b98-db16-b52133400a22"
      },
      "outputs": [
        {
          "output_type": "stream",
          "name": "stdout",
          "text": [
            "                        Model  Precision Score\n",
            "7               Decision Tree           100.00\n",
            "9               Random Forest           100.00\n",
            "8     Gradient Boosting Trees            94.67\n",
            "3                         KNN            90.64\n",
            "1                         SVM            87.12\n",
            "5                  Perceptron            84.42\n",
            "0         Logistic Regression            77.32\n",
            "2                  Linear SVC            76.50\n",
            "6  Stochastic Gradient Decent            68.76\n",
            "4                 Naive Bayes            58.06\n"
          ]
        }
      ],
      "source": [
        "# Create a DataFrame to store model scores\n",
        "models = pd.DataFrame({\n",
        "    'Model': ['Logistic Regression', 'SVM', 'Linear SVC', 'KNN', 'Naive Bayes', 'Perceptron',\n",
        "              'Stochastic Gradient Decent', 'Decision Tree', 'Gradient Boosting Trees', 'Random Forest'],\n",
        "    'Precision Score': [\n",
        "        precision_log,\n",
        "        precision_svc,\n",
        "        precision_linear_svc,\n",
        "        precision_knn,\n",
        "        precision_gaussian,\n",
        "        precision_perceptron,\n",
        "        precision_sgd,\n",
        "        precision_dt,\n",
        "        precision_gbt,\n",
        "        precision_rf,\n",
        "    ]\n",
        "})\n",
        "\n",
        "# Sort the models by Average Score in descending order\n",
        "models.sort_values(by='Precision Score', ascending=False, inplace=True)\n",
        "\n",
        "# Display the sorted DataFrame\n",
        "print(models)"
      ]
    },
    {
      "cell_type": "code",
      "execution_count": 114,
      "metadata": {
        "id": "g-JJMvsHA9iQ",
        "colab": {
          "base_uri": "https://localhost:8080/"
        },
        "outputId": "e232d2c1-5719-4ee0-bbc5-b6b0b4c1a5ec"
      },
      "outputs": [
        {
          "output_type": "stream",
          "name": "stdout",
          "text": [
            "                        Model  Precision CV 10-Fold\n",
            "9               Random Forest                 96.20\n",
            "8     Gradient Boosting Trees                 89.16\n",
            "7               Decision Tree                 88.60\n",
            "3                         KNN                 82.89\n",
            "1                         SVM                 82.53\n",
            "2                  Linear SVC                 76.01\n",
            "0         Logistic Regression                 75.96\n",
            "6  Stochastic Gradient Decent                 73.68\n",
            "5                  Perceptron                 73.46\n",
            "4                 Naive Bayes                 58.13\n"
          ]
        }
      ],
      "source": [
        "# Create a DataFrame to store cross-validated model scores\n",
        "cv_models = pd.DataFrame({\n",
        "    'Model': ['Logistic Regression', 'SVM', 'Linear SVC', 'KNN', 'Naive Bayes', 'Perceptron',\n",
        "              'Stochastic Gradient Decent', 'Decision Tree', 'Gradient Boosting Trees', 'Random Forest'],\n",
        "    'Precision CV 10-Fold': [\n",
        "        precision_cv_log,\n",
        "        precision_cv_svc,\n",
        "        precision_cv_linear_svc,\n",
        "        precision_cv_knn,\n",
        "        precision_cv_gaussian,\n",
        "        precision_cv_perceptron,\n",
        "        precision_cv_sgd,\n",
        "        precision_cv_dt,\n",
        "        precision_cv_gbt,\n",
        "        precision_cv_rf\n",
        "    ]\n",
        "})\n",
        "\n",
        "# Sort the cross-validated models by Precision CV 10-Fold in descending order\n",
        "cv_models.sort_values(by='Precision CV 10-Fold', ascending=False, inplace=True)\n",
        "\n",
        "# Display the sorted DataFrame\n",
        "print(cv_models)"
      ]
    },
    {
      "cell_type": "markdown",
      "metadata": {
        "id": "d1ysZfEUA9iS"
      },
      "source": [
        "# Model Evaluation 1"
      ]
    },
    {
      "cell_type": "code",
      "execution_count": 115,
      "metadata": {
        "id": "bDNwwmlXF6xB",
        "colab": {
          "base_uri": "https://localhost:8080/"
        },
        "outputId": "16f19713-1988-40ea-922e-3589c959e7d0"
      },
      "outputs": [
        {
          "output_type": "stream",
          "name": "stdout",
          "text": [
            "Model: Logistic Regression\n",
            "Precision Scores: [0.78378378 0.69444444 0.7625     0.78082192 0.734375   0.703125\n",
            " 0.78571429 0.85483871 0.71014493 0.78666667]\n",
            "Mean Precision Score: 0.760\n",
            "----------------------------------------\n",
            "Model: SVM\n",
            "Precision Scores: [0.82608696 0.81428571 0.80246914 0.85333333 0.84285714 0.8028169\n",
            " 0.80519481 0.89393939 0.79710145 0.82278481]\n",
            "Mean Precision Score: 0.826\n",
            "----------------------------------------\n",
            "Model: Linear SVC\n",
            "Precision Scores: [0.80555556 0.70422535 0.7625     0.78082192 0.72131148 0.67692308\n",
            " 0.77464789 0.88333333 0.72727273 0.76623377]\n",
            "Mean Precision Score: 0.760\n",
            "----------------------------------------\n",
            "Model: KNN\n",
            "Precision Scores: [0.79487179 0.7654321  0.77011494 0.77272727 0.75       0.80246914\n",
            " 0.81176471 0.825      0.7875     0.78823529]\n",
            "Mean Precision Score: 0.787\n",
            "----------------------------------------\n",
            "Model: Decision Tree\n",
            "Precision Scores: [0.84337349 0.8625     0.8452381  0.87654321 0.91025641 0.8875\n",
            " 0.91025641 0.89873418 0.91025641 0.8452381 ]\n",
            "Mean Precision Score: 0.879\n",
            "----------------------------------------\n",
            "Model: Gradient Boosting Trees\n",
            "Precision Scores: [0.89189189 0.88       0.85365854 0.92       0.88311688 0.86419753\n",
            " 0.93243243 0.93150685 0.90789474 0.86075949]\n",
            "Mean Precision Score: 0.893\n",
            "----------------------------------------\n",
            "Model: Random Forest\n",
            "Precision Scores: [0.97222222 0.93333333 0.94666667 0.97260274 0.93421053 0.97260274\n",
            " 1.         0.97260274 0.98611111 0.95945946]\n",
            "Mean Precision Score: 0.965\n",
            "----------------------------------------\n"
          ]
        }
      ],
      "source": [
        "from sklearn.model_selection import cross_val_score\n",
        "from sklearn.metrics import make_scorer, precision_score\n",
        "\n",
        "# Define a dictionary of models with their default parameters\n",
        "models = {\n",
        "    'Logistic Regression': LogisticRegression(),\n",
        "    'SVM': SVC(),\n",
        "    'Linear SVC': LinearSVC(),\n",
        "    'KNN': KNeighborsClassifier(),\n",
        "    'Decision Tree': DecisionTreeClassifier(),\n",
        "    'Gradient Boosting Trees': GradientBoostingClassifier(),\n",
        "    'Random Forest': RandomForestClassifier()\n",
        "}\n",
        "\n",
        "# Define precision scoring function for cross-validation\n",
        "precision_scorer = make_scorer(precision_score)\n",
        "\n",
        "# Evaluate each model using cross-validation for precision\n",
        "for model_name, model in models.items():\n",
        "    scores = cross_val_score(model, X_train_selected, y_train_resampled, cv=10, scoring=precision_scorer)\n",
        "    mean_precision = scores.mean()\n",
        "    print(f\"Model: {model_name}\")\n",
        "    print(f\"Precision Scores: {scores}\")\n",
        "    print(f\"Mean Precision Score: {mean_precision:.3f}\")\n",
        "    print(\"-\" * 40)"
      ]
    },
    {
      "cell_type": "markdown",
      "source": [
        "## Model Evaluation 2"
      ],
      "metadata": {
        "id": "sYHO-ClQknoD"
      }
    },
    {
      "cell_type": "code",
      "execution_count": 116,
      "metadata": {
        "id": "_ygPnrgdHoQE",
        "colab": {
          "base_uri": "https://localhost:8080/"
        },
        "outputId": "1e0db535-bd30-4582-c60e-f4bf41bb8da1"
      },
      "outputs": [
        {
          "output_type": "stream",
          "name": "stdout",
          "text": [
            "Model: Logistic Regression\n",
            "Precision Scores: [0.78378378 0.69444444 0.7625     0.78082192 0.734375   0.703125\n",
            " 0.78571429 0.85483871 0.71014493 0.78666667]\n",
            "Mean Precision Score: 0.760\n",
            "Standard Deviation of Precision Scores: 0.047\n",
            "----------------------------------------\n",
            "Model: SVM\n",
            "Precision Scores: [0.82608696 0.81428571 0.80246914 0.85333333 0.84285714 0.8028169\n",
            " 0.80519481 0.89393939 0.79710145 0.82278481]\n",
            "Mean Precision Score: 0.826\n",
            "Standard Deviation of Precision Scores: 0.029\n",
            "----------------------------------------\n",
            "Model: Linear SVC\n",
            "Precision Scores: [0.80555556 0.70422535 0.7625     0.78082192 0.72131148 0.67692308\n",
            " 0.77464789 0.88333333 0.72727273 0.76623377]\n",
            "Mean Precision Score: 0.760\n",
            "Standard Deviation of Precision Scores: 0.055\n",
            "----------------------------------------\n",
            "Model: KNN\n",
            "Precision Scores: [0.79487179 0.7654321  0.77011494 0.77272727 0.75       0.80246914\n",
            " 0.81176471 0.825      0.7875     0.78823529]\n",
            "Mean Precision Score: 0.787\n",
            "Standard Deviation of Precision Scores: 0.022\n",
            "----------------------------------------\n",
            "Model: Decision Tree\n",
            "Precision Scores: [0.86419753 0.85185185 0.86585366 0.87654321 0.91025641 0.91025641\n",
            " 0.89873418 0.91025641 0.93421053 0.8875    ]\n",
            "Mean Precision Score: 0.891\n",
            "Standard Deviation of Precision Scores: 0.025\n",
            "----------------------------------------\n",
            "Model: Gradient Boosting Trees\n",
            "Precision Scores: [0.89189189 0.88311688 0.85365854 0.92       0.88311688 0.86419753\n",
            " 0.93243243 0.93150685 0.90789474 0.86075949]\n",
            "Mean Precision Score: 0.893\n",
            "Standard Deviation of Precision Scores: 0.028\n",
            "----------------------------------------\n",
            "Model: Random Forest\n",
            "Precision Scores: [0.98591549 0.93333333 0.95945946 0.98611111 0.93421053 0.97260274\n",
            " 0.98611111 0.95945946 0.98611111 0.97260274]\n",
            "Mean Precision Score: 0.968\n",
            "Standard Deviation of Precision Scores: 0.020\n",
            "----------------------------------------\n"
          ]
        }
      ],
      "source": [
        "# Define a dictionary of models with their default parameters\n",
        "models = {\n",
        "    'Logistic Regression': LogisticRegression(),\n",
        "    'SVM': SVC(),\n",
        "    'Linear SVC': LinearSVC(),\n",
        "    'KNN': KNeighborsClassifier(),\n",
        "    'Decision Tree': DecisionTreeClassifier(),\n",
        "    'Gradient Boosting Trees': GradientBoostingClassifier(),\n",
        "    'Random Forest': RandomForestClassifier()\n",
        "}\n",
        "\n",
        "# Define precision scoring function for cross-validation\n",
        "precision_scorer = make_scorer(precision_score)\n",
        "\n",
        "# Evaluate each model using cross-validation for precision\n",
        "for model_name, model in models.items():\n",
        "    scores = cross_val_score(model, X_train_selected, y_train_resampled, cv=10, scoring=precision_scorer)\n",
        "    mean_precision = scores.mean()\n",
        "    std_precision = scores.std()\n",
        "    print(f\"Model: {model_name}\")\n",
        "    print(f\"Precision Scores: {scores}\")\n",
        "    print(f\"Mean Precision Score: {mean_precision:.3f}\")\n",
        "    print(f\"Standard Deviation of Precision Scores: {std_precision:.3f}\")\n",
        "    print(\"-\" * 40)"
      ]
    },
    {
      "cell_type": "markdown",
      "metadata": {
        "id": "2PLCpa9ooD4L"
      },
      "source": [
        "Based on the precision score, model evaluation 1 & model evaluation 2, we decided to **choose model** with **lowest standard deviation of precision score and highest Precision Score**. So, we decided to choose **Random Forest Classifier**."
      ]
    },
    {
      "cell_type": "markdown",
      "metadata": {
        "id": "sw9mWvS6A9iU"
      },
      "source": [
        "# Hyperparameter Tuning"
      ]
    },
    {
      "cell_type": "code",
      "source": [
        "from sklearn.model_selection import RandomizedSearchCV\n",
        "from sklearn.ensemble import RandomForestClassifier\n",
        "\n",
        "# Define the parameter grid\n",
        "param_grid = {\n",
        "    'criterion': ['gini', 'entropy', 'log_loss'],\n",
        "    'max_depth': [10, 20, 30, 40, 50, None],\n",
        "    'min_samples_leaf': [1, 2, 4],\n",
        "    'min_samples_split': [2, 5, 10],\n",
        "    'n_estimators': [10, 20, 30, 40, 50, 60, 100]\n",
        "}\n",
        "\n",
        "# Create a Random Forest model\n",
        "rf_model = RandomForestClassifier()\n",
        "\n",
        "# Create RandomizedSearchCV object\n",
        "random_search = RandomizedSearchCV(\n",
        "    rf_model,\n",
        "    param_distributions=param_grid,\n",
        "    n_iter=50,  # Number of parameter settings that are sampled\n",
        "    cv=10,  # Number of cross-validation folds\n",
        "    scoring='precision',  # Use precision as the evaluation metric\n",
        "    n_jobs=-1,  # Use all available CPU cores for parallel processing\n",
        "    random_state=42  # For reproducibility\n",
        ")\n",
        "\n",
        "# Fit the RandomizedSearchCV object to the data\n",
        "random_search.fit(X_train_selected, y_train_resampled)\n",
        "\n",
        "# Print the best parameters and best precision score\n",
        "print(\"Best parameters:\", random_search.best_params_)\n",
        "print(\"Best precision score:\", random_search.best_score_)"
      ],
      "metadata": {
        "colab": {
          "base_uri": "https://localhost:8080/"
        },
        "id": "sT40ksnVYwoQ",
        "outputId": "b9b847d4-bdb9-4c57-a9cf-650916a85eec"
      },
      "execution_count": 78,
      "outputs": [
        {
          "output_type": "stream",
          "name": "stdout",
          "text": [
            "Best parameters: {'n_estimators': 100, 'min_samples_split': 5, 'min_samples_leaf': 1, 'max_depth': 50, 'criterion': 'gini'}\n",
            "Best precision score: 0.9610206865120349\n"
          ]
        }
      ]
    },
    {
      "cell_type": "markdown",
      "metadata": {
        "id": "JHHcfGI4A9iW"
      },
      "source": [
        "### Check model using best params"
      ]
    },
    {
      "cell_type": "code",
      "execution_count": 79,
      "metadata": {
        "id": "v2JqyM934cw3"
      },
      "outputs": [],
      "source": [
        "# Select the columns using the selected_feature_indices\n",
        "X_test_selected = X_test_scaled[:, selected_feature_indices]"
      ]
    },
    {
      "cell_type": "code",
      "execution_count": 80,
      "metadata": {
        "id": "9tbsAasLA9ic",
        "colab": {
          "base_uri": "https://localhost:8080/"
        },
        "outputId": "d413a0e0-47f0-4c5b-926b-3c418749e842"
      },
      "outputs": [
        {
          "output_type": "stream",
          "name": "stdout",
          "text": [
            "Random Forest Precision Default Before (Training): 1.0\n",
            "Random Forest Precision CV 10-Fold Default Before (Training): 0.959349593495935\n",
            "Random Forest Precision Best After (Training): 1.0\n",
            "Random Forest Precision CV 10-Fold Best After (Training): 0.9528301886792453\n"
          ]
        }
      ],
      "source": [
        "# Random Forest\n",
        "\n",
        "# Define Random Forest hyperparameters\n",
        "rf_params = {'n_estimators': 100, 'min_samples_split': 5, 'min_samples_leaf': 1, 'max_depth': 50, 'criterion': 'gini'}\n",
        "\n",
        "# Create and fit the Random Forest model with default parameters\n",
        "rf_model_default = RandomForestClassifier()\n",
        "rf_model_default.fit(X_train_selected, y_train_resampled)\n",
        "\n",
        "# Create and fit the Random Forest model with best parameters\n",
        "rf_model_best = RandomForestClassifier(**rf_params)\n",
        "rf_model_best.fit(X_train_selected, y_train_resampled)\n",
        "\n",
        "# Predictions on training data using default and best parameters\n",
        "train_pred_rf_default = rf_model_default.predict(X_train_selected)\n",
        "train_pred_rf_best = rf_model_best.predict(X_train_selected)\n",
        "\n",
        "# Calculate precision scores before using any hyperparameters for training data\n",
        "precision_rf_default_before_train = precision_score(y_train_resampled, train_pred_rf_default)\n",
        "precision_cv_rf_default_before_train = precision_score(y_train_resampled, cross_val_predict(rf_model_default, X_train_selected, y_train_resampled, cv=10, n_jobs=-1))\n",
        "\n",
        "# Calculate precision scores after using best hyperparameters for training data\n",
        "precision_rf_best_after_train = precision_score(y_train_resampled, train_pred_rf_best)\n",
        "precision_cv_rf_best_after_train = precision_score(y_train_resampled, cross_val_predict(rf_model_best, X_train_selected, y_train_resampled, cv=10, n_jobs=-1))\n",
        "\n",
        "print(\"Random Forest Precision Default Before (Training):\", precision_rf_default_before_train)\n",
        "print(\"Random Forest Precision CV 10-Fold Default Before (Training):\", precision_cv_rf_default_before_train)\n",
        "print(\"Random Forest Precision Best After (Training):\", precision_rf_best_after_train)\n",
        "print(\"Random Forest Precision CV 10-Fold Best After (Training):\", precision_cv_rf_best_after_train)"
      ]
    },
    {
      "cell_type": "code",
      "execution_count": 81,
      "metadata": {
        "id": "Kpxu6TtxA9id",
        "colab": {
          "base_uri": "https://localhost:8080/"
        },
        "outputId": "29128d7c-efaf-49d4-d6c1-2b373f6baeb1"
      },
      "outputs": [
        {
          "output_type": "stream",
          "name": "stdout",
          "text": [
            "Random Forest Precision Best After (Test): 0.6666666666666666\n",
            "Random Forest Precision CV 10-Fold Best After (Test): 0.6428571428571429\n"
          ]
        }
      ],
      "source": [
        "# Random Forest Data Test\n",
        "\n",
        "# Define Random Forest hyperparameters\n",
        "rf_params = {'n_estimators': 100, 'min_samples_split': 5, 'min_samples_leaf': 1, 'max_depth': 50, 'criterion': 'gini'}\n",
        "\n",
        "# Create and fit the Random Forest model with best parameters\n",
        "rf_model_best = RandomForestClassifier(**rf_params)\n",
        "rf_model_best.fit(X_train_selected, y_train_resampled)\n",
        "\n",
        "# Predictions on test data using best parameters\n",
        "test_pred_rf_best = rf_model_best.predict(X_test_selected)\n",
        "\n",
        "# Calculate precision scores after using best hyperparameters for test data\n",
        "precision_rf_best_after_test = precision_score(y_test, test_pred_rf_best)\n",
        "\n",
        "# Cross-validation precision metric after using best hyperparameters for test data\n",
        "precision_cv_rf_best_after_test = cross_val_predict(rf_model_best, X_test_selected, y_test, cv=10, n_jobs=-1)\n",
        "precision_cv_rf_best_after_test = precision_score(y_test, precision_cv_rf_best_after_test)\n",
        "\n",
        "print(\"Random Forest Precision Best After (Test):\", precision_rf_best_after_test)\n",
        "print(\"Random Forest Precision CV 10-Fold Best After (Test):\", precision_cv_rf_best_after_test)"
      ]
    },
    {
      "cell_type": "code",
      "execution_count": 82,
      "metadata": {
        "id": "IoNQawm5t28n",
        "colab": {
          "base_uri": "https://localhost:8080/",
          "height": 557
        },
        "outputId": "1a723d52-5a16-4b12-8fc9-38c9c905a278"
      },
      "outputs": [
        {
          "output_type": "display_data",
          "data": {
            "text/plain": [
              "<Figure size 1000x600 with 1 Axes>"
            ],
            "image/png": "[encoded data removed]"
          },
          "metadata": {}
        }
      ],
      "source": [
        "# Learning Curve model RandomForestClassifier\n",
        "\n",
        "# Create the Random Forest model with best parameters\n",
        "rf_model_best = RandomForestClassifier(**rf_params)\n",
        "\n",
        "# Calculate learning curve data\n",
        "train_sizes, train_scores, cv_scores = learning_curve(rf_model_best, X_train_selected, y_train_resampled, cv=10, n_jobs=-1, train_sizes=np.linspace(0.1, 1.0, 10))\n",
        "\n",
        "# Calculate mean and standard deviation of scores\n",
        "train_scores_mean = np.mean(train_scores, axis=1)\n",
        "train_scores_std = np.std(train_scores, axis=1)\n",
        "cv_scores_mean = np.mean(cv_scores, axis=1)\n",
        "cv_scores_std = np.std(cv_scores, axis=1)\n",
        "\n",
        "# Plot the learning curve\n",
        "plt.figure(figsize=(10, 6))\n",
        "plt.plot(train_sizes, train_scores_mean, label='Training score', color='r')\n",
        "plt.fill_between(train_sizes, train_scores_mean - train_scores_std, train_scores_mean + train_scores_std, alpha=0.2, color='r')\n",
        "plt.plot(train_sizes, cv_scores_mean, label='Cross-validation score', color='g')\n",
        "plt.fill_between(train_sizes, cv_scores_mean - cv_scores_std, cv_scores_mean + cv_scores_std, alpha=0.2, color='g')\n",
        "plt.xlabel('Training Set Size')\n",
        "plt.ylabel('Precision Score')\n",
        "plt.title('Random Forest Learning Curve')\n",
        "plt.legend()\n",
        "plt.grid()\n",
        "plt.show()"
      ]
    },
    {
      "cell_type": "markdown",
      "metadata": {
        "id": "Bd13_08FA9ie"
      },
      "source": [
        "# Predict Data using RandomForest"
      ]
    },
    {
      "cell_type": "code",
      "execution_count": 83,
      "metadata": {
        "id": "_8G1kN0MA9if"
      },
      "outputs": [],
      "source": [
        "rf_params = {'n_estimators': 100, 'min_samples_split': 5, 'min_samples_leaf': 1, 'max_depth': 50, 'criterion': 'gini'}\n",
        "model = RandomForestClassifier(**rf_params).fit(X_train, y_train)"
      ]
    },
    {
      "cell_type": "code",
      "execution_count": 84,
      "metadata": {
        "id": "xM62p82pA9if"
      },
      "outputs": [],
      "source": [
        "predictions = model.predict(X_test)"
      ]
    },
    {
      "cell_type": "code",
      "execution_count": 85,
      "metadata": {
        "id": "zTZx7CqfA9ig"
      },
      "outputs": [],
      "source": [
        "pred_df = pd.DataFrame(index=X_test.index)"
      ]
    },
    {
      "cell_type": "code",
      "execution_count": 86,
      "metadata": {
        "id": "Qr7XRM7UA9ig",
        "colab": {
          "base_uri": "https://localhost:8080/",
          "height": 204
        },
        "outputId": "60236d6c-f19d-47fe-8ace-b539a23f9989"
      },
      "outputs": [
        {
          "output_type": "execute_result",
          "data": {
            "text/plain": [
              "      Attrition\n",
              "650           0\n",
              "320           0\n",
              "55            0\n",
              "1220          0\n",
              "909           1"
            ],
            "text/html": [
              "\n",
              "  <div id=\"df-cd4ebdc4-dc1c-4f17-bf5e-0fa5d151aa1c\" class=\"colab-df-container\">\n",
              "    <div>\n",
              "<style scoped>\n",
              "    .dataframe tbody tr th:only-of-type {\n",
              "        vertical-align: middle;\n",
              "    }\n",
              "\n",
              "    .dataframe tbody tr th {\n",
              "        vertical-align: top;\n",
              "    }\n",
              "\n",
              "    .dataframe thead th {\n",
              "        text-align: right;\n",
              "    }\n",
              "</style>\n",
              "<table border=\"1\" class=\"dataframe\">\n",
              "  <thead>\n",
              "    <tr style=\"text-align: right;\">\n",
              "      <th></th>\n",
              "      <th>Attrition</th>\n",
              "    </tr>\n",
              "  </thead>\n",
              "  <tbody>\n",
              "    <tr>\n",
              "      <th>650</th>\n",
              "      <td>0</td>\n",
              "    </tr>\n",
              "    <tr>\n",
              "      <th>320</th>\n",
              "      <td>0</td>\n",
              "    </tr>\n",
              "    <tr>\n",
              "      <th>55</th>\n",
              "      <td>0</td>\n",
              "    </tr>\n",
              "    <tr>\n",
              "      <th>1220</th>\n",
              "      <td>0</td>\n",
              "    </tr>\n",
              "    <tr>\n",
              "      <th>909</th>\n",
              "      <td>1</td>\n",
              "    </tr>\n",
              "  </tbody>\n",
              "</table>\n",
              "</div>\n",
              "    <div class=\"colab-df-buttons\">\n",
              "\n",
              "  <div class=\"colab-df-container\">\n",
              "    <button class=\"colab-df-convert\" onclick=\"convertToInteractive('df-cd4ebdc4-dc1c-4f17-bf5e-0fa5d151aa1c')\"\n",
              "            title=\"Convert this dataframe to an interactive table.\"\n",
              "            style=\"display:none;\">\n",
              "\n",
              "  <svg xmlns=\"http://www.w3.org/2000/svg\" height=\"24px\" viewBox=\"0 -960 960 960\">\n",
              "    <path d=\"M120-120v-720h720v720H120Zm60-500h600v-160H180v160Zm220 220h160v-160H400v160Zm0 220h160v-160H400v160ZM180-400h160v-160H180v160Zm440 0h160v-160H620v160ZM180-180h160v-160H180v160Zm440 0h160v-160H620v160Z\"/>\n",
              "  </svg>\n",
              "    </button>\n",
              "\n",
              "  <style>\n",
              "    .colab-df-container {\n",
              "      display:flex;\n",
              "      gap: 12px;\n",
              "    }\n",
              "\n",
              "    .colab-df-convert {\n",
              "      background-color: #E8F0FE;\n",
              "      border: none;\n",
              "      border-radius: 50%;\n",
              "      cursor: pointer;\n",
              "      display: none;\n",
              "      fill: #1967D2;\n",
              "      height: 32px;\n",
              "      padding: 0 0 0 0;\n",
              "      width: 32px;\n",
              "    }\n",
              "\n",
              "    .colab-df-convert:hover {\n",
              "      background-color: #E2EBFA;\n",
              "      box-shadow: 0px 1px 2px rgba(60, 64, 67, 0.3), 0px 1px 3px 1px rgba(60, 64, 67, 0.15);\n",
              "      fill: #174EA6;\n",
              "    }\n",
              "\n",
              "    .colab-df-buttons div {\n",
              "      margin-bottom: 4px;\n",
              "    }\n",
              "\n",
              "    [theme=dark] .colab-df-convert {\n",
              "      background-color: #3B4455;\n",
              "      fill: #D2E3FC;\n",
              "    }\n",
              "\n",
              "    [theme=dark] .colab-df-convert:hover {\n",
              "      background-color: #434B5C;\n",
              "      box-shadow: 0px 1px 3px 1px rgba(0, 0, 0, 0.15);\n",
              "      filter: drop-shadow(0px 1px 2px rgba(0, 0, 0, 0.3));\n",
              "      fill: #FFFFFF;\n",
              "    }\n",
              "  </style>\n",
              "\n",
              "    <script>\n",
              "      const buttonEl =\n",
              "        document.querySelector('#df-cd4ebdc4-dc1c-4f17-bf5e-0fa5d151aa1c button.colab-df-convert');\n",
              "      buttonEl.style.display =\n",
              "        google.colab.kernel.accessAllowed ? 'block' : 'none';\n",
              "\n",
              "      async function convertToInteractive(key) {\n",
              "        const element = document.querySelector('#df-cd4ebdc4-dc1c-4f17-bf5e-0fa5d151aa1c');\n",
              "        const dataTable =\n",
              "          await google.colab.kernel.invokeFunction('convertToInteractive',\n",
              "                                                    [key], {});\n",
              "        if (!dataTable) return;\n",
              "\n",
              "        const docLinkHtml = 'Like what you see? Visit the ' +\n",
              "          '<a target=\"_blank\" href=https://colab.research.google.com/notebooks/data_table.ipynb>data table notebook</a>'\n",
              "          + ' to learn more about interactive tables.';\n",
              "        element.innerHTML = '';\n",
              "        dataTable['output_type'] = 'display_data';\n",
              "        await google.colab.output.renderOutput(dataTable, element);\n",
              "        const docLink = document.createElement('div');\n",
              "        docLink.innerHTML = docLinkHtml;\n",
              "        element.appendChild(docLink);\n",
              "      }\n",
              "    </script>\n",
              "  </div>\n",
              "\n",
              "\n",
              "<div id=\"df-969b63d7-7ce3-441f-8e28-6d498a7e0d9c\">\n",
              "  <button class=\"colab-df-quickchart\" onclick=\"quickchart('df-969b63d7-7ce3-441f-8e28-6d498a7e0d9c')\"\n",
              "            title=\"Suggest charts.\"\n",
              "            style=\"display:none;\">\n",
              "\n",
              "<svg xmlns=\"http://www.w3.org/2000/svg\" height=\"24px\"viewBox=\"0 0 24 24\"\n",
              "     width=\"24px\">\n",
              "    <g>\n",
              "        <path d=\"M19 3H5c-1.1 0-2 .9-2 2v14c0 1.1.9 2 2 2h14c1.1 0 2-.9 2-2V5c0-1.1-.9-2-2-2zM9 17H7v-7h2v7zm4 0h-2V7h2v10zm4 0h-2v-4h2v4z\"/>\n",
              "    </g>\n",
              "</svg>\n",
              "  </button>\n",
              "\n",
              "<style>\n",
              "  .colab-df-quickchart {\n",
              "    background-color: #E8F0FE;\n",
              "    border: none;\n",
              "    border-radius: 50%;\n",
              "    cursor: pointer;\n",
              "    display: none;\n",
              "    fill: #1967D2;\n",
              "    height: 32px;\n",
              "    padding: 0 0 0 0;\n",
              "    width: 32px;\n",
              "  }\n",
              "\n",
              "  .colab-df-quickchart:hover {\n",
              "    background-color: #E2EBFA;\n",
              "    box-shadow: 0px 1px 2px rgba(60, 64, 67, 0.3), 0px 1px 3px 1px rgba(60, 64, 67, 0.15);\n",
              "    fill: #174EA6;\n",
              "  }\n",
              "\n",
              "  [theme=dark] .colab-df-quickchart {\n",
              "    background-color: #3B4455;\n",
              "    fill: #D2E3FC;\n",
              "  }\n",
              "\n",
              "  [theme=dark] .colab-df-quickchart:hover {\n",
              "    background-color: #434B5C;\n",
              "    box-shadow: 0px 1px 3px 1px rgba(0, 0, 0, 0.15);\n",
              "    filter: drop-shadow(0px 1px 2px rgba(0, 0, 0, 0.3));\n",
              "    fill: #FFFFFF;\n",
              "  }\n",
              "</style>\n",
              "\n",
              "  <script>\n",
              "    async function quickchart(key) {\n",
              "      const charts = await google.colab.kernel.invokeFunction(\n",
              "          'suggestCharts', [key], {});\n",
              "    }\n",
              "    (() => {\n",
              "      let quickchartButtonEl =\n",
              "        document.querySelector('#df-969b63d7-7ce3-441f-8e28-6d498a7e0d9c button');\n",
              "      quickchartButtonEl.style.display =\n",
              "        google.colab.kernel.accessAllowed ? 'block' : 'none';\n",
              "    })();\n",
              "  </script>\n",
              "</div>\n",
              "    </div>\n",
              "  </div>\n"
            ]
          },
          "metadata": {},
          "execution_count": 86
        }
      ],
      "source": [
        "pred_df['Attrition'] = predictions\n",
        "pred_df.head()"
      ]
    },
    {
      "cell_type": "code",
      "execution_count": 87,
      "metadata": {
        "id": "ZfImjxVnA9ih"
      },
      "outputs": [],
      "source": [
        "# Cross-validation precision metric\n",
        "score = round(metrics.precision_score(y_test, predictions) * 100, 2)"
      ]
    },
    {
      "cell_type": "code",
      "execution_count": 88,
      "metadata": {
        "id": "YFb_d1NlA9ih",
        "colab": {
          "base_uri": "https://localhost:8080/"
        },
        "outputId": "1abe7f83-b6bc-48ea-e6d3-16aa3b87e8e0"
      },
      "outputs": [
        {
          "output_type": "stream",
          "name": "stdout",
          "text": [
            "Precision: 80.0\n"
          ]
        }
      ],
      "source": [
        "print(\"Precision: %s\" % score)"
      ]
    },
    {
      "cell_type": "code",
      "execution_count": 89,
      "metadata": {
        "id": "GZolA22HA9ii",
        "scrolled": true,
        "colab": {
          "base_uri": "https://localhost:8080/"
        },
        "outputId": "75c34bf2-eeec-4aa5-89c2-239dd6e1f003"
      },
      "outputs": [
        {
          "output_type": "stream",
          "name": "stdout",
          "text": [
            "              precision    recall  f1-score   support\n",
            "\n",
            "           0       0.86      0.99      0.92       308\n",
            "           1       0.80      0.14      0.24        58\n",
            "\n",
            "    accuracy                           0.86       366\n",
            "   macro avg       0.83      0.57      0.58       366\n",
            "weighted avg       0.85      0.86      0.81       366\n",
            "\n"
          ]
        }
      ],
      "source": [
        "print(classification_report(y_test, predictions))"
      ]
    },
    {
      "cell_type": "code",
      "execution_count": 93,
      "metadata": {
        "id": "MMB-YQMPA9ii",
        "colab": {
          "base_uri": "https://localhost:8080/",
          "height": 1000
        },
        "outputId": "e33e9d43-29d8-443b-8fac-1fec6e37201c"
      },
      "outputs": [
        {
          "output_type": "stream",
          "name": "stdout",
          "text": [
            "1. Feature: MonthlyIncome, Score: 0.10109\n",
            "2. Feature: YearsWorkingPerCompany, Score: 0.09413\n",
            "3. Feature: Accumulated_Satisfaction, Score: 0.08709\n",
            "4. Feature: Age, Score: 0.08498\n",
            "5. Feature: DailyRate, Score: 0.07232\n",
            "6. Feature: OverTime, Score: 0.06828\n",
            "7. Feature: DistanceFromHome, Score: 0.05947\n",
            "8. Feature: TotalWorkingYears, Score: 0.05674\n",
            "9. Feature: YearsAtCompany, Score: 0.04714\n",
            "10. Feature: YearsWithCurrManager, Score: 0.04364\n",
            "11. Feature: YearsInCurrentRole, Score: 0.03737\n",
            "12. Feature: JobLevel, Score: 0.03689\n",
            "13. Feature: TrainingTimesLastYear, Score: 0.03364\n",
            "14. Feature: StockOptionLevel, Score: 0.03251\n",
            "15. Feature: BusinessTravel_Travel_Frequently, Score: 0.02153\n",
            "16. Feature: MaritalStatus_Single, Score: 0.01420\n",
            "17. Feature: Department_Research & Development, Score: 0.01361\n",
            "18. Feature: JobRole_Laboratory Technician, Score: 0.01320\n",
            "19. Feature: Department_Sales, Score: 0.01300\n",
            "20. Feature: MaritalStatus_Divorced, Score: 0.01189\n",
            "21. Feature: MaritalStatus_Married, Score: 0.01120\n",
            "22. Feature: BusinessTravel_Travel_Rarely, Score: 0.01107\n",
            "23. Feature: JobRole_Healthcare Representative, Score: 0.00798\n",
            "24. Feature: BusinessTravel_Non-Travel, Score: 0.00791\n",
            "25. Feature: JobRole_Manufacturing Director, Score: 0.00713\n",
            "26. Feature: JobRole_Sales Representative, Score: 0.00467\n",
            "27. Feature: JobRole_Research Director, Score: 0.00438\n",
            "28. Feature: JobRole_Manager, Score: 0.00293\n"
          ]
        },
        {
          "output_type": "display_data",
          "data": {
            "text/plain": [
              "<Figure size 640x480 with 1 Axes>"
            ],
            "image/png": "[encoded data removed]"
          },
          "metadata": {}
        }
      ],
      "source": [
        "selected_feature_indices = [list(X_train.columns).index(feature) for feature in selected_features.index]\n",
        "\n",
        "X_train_selected = X_train_resampled[:, selected_feature_indices]\n",
        "\n",
        "rf_params = {'n_estimators': 100, 'min_samples_split': 5, 'min_samples_leaf': 1, 'max_depth': 50, 'criterion': 'gini'}\n",
        "rf_model = RandomForestClassifier(**rf_params).fit(X_train_selected, y_train_resampled)\n",
        "\n",
        "importance = rf_model.feature_importances_\n",
        "\n",
        "sorted_indices = importance.argsort()[::-1]\n",
        "sorted_importance = importance[sorted_indices]\n",
        "sorted_features = selected_features.index[sorted_indices]\n",
        "\n",
        "for i, (feature, score) in enumerate(zip(sorted_features, sorted_importance), 1):\n",
        "    print(f'{i}. Feature: {feature}, Score: {score:.5f}')\n",
        "\n",
        "plt.bar(sorted_features, sorted_importance)\n",
        "plt.xticks(rotation=90)\n",
        "plt.xlabel(\"Features\")\n",
        "plt.ylabel(\"Importance\")\n",
        "plt.title(\"Feature Importance for RandomForestClassifier (Descending Order)\")\n",
        "plt.show()"
      ]
    },
    {
      "cell_type": "code",
      "source": [
        "# Check Model using Top 14 and Top 5 feature\n",
        "\n",
        "# Select the top 14 and top 5 feature indices\n",
        "top_14_indices = sorted_indices[:14]\n",
        "top_5_indices = sorted_indices[:5]\n",
        "top_3_indices = sorted_indices[:3]\n",
        "\n",
        "X_train_top_14 = X_train_selected[:, top_14_indices]\n",
        "X_train_top_5 = X_train_selected[:, top_5_indices]\n",
        "X_train_top_3 = X_train_selected[:, top_3_indices]\n",
        "\n",
        "# Create RandomForest models\n",
        "rf_params = {'n_estimators': 100, 'min_samples_split': 5, 'min_samples_leaf': 1, 'max_depth': 50, 'criterion': 'gini'}\n",
        "\n",
        "rf_model_top_14 = RandomForestClassifier(**rf_params).fit(X_train_top_14, y_train_resampled)\n",
        "rf_model_top_5 = RandomForestClassifier(**rf_params).fit(X_train_top_5, y_train_resampled)\n",
        "rf_model_top_3 = RandomForestClassifier(**rf_params).fit(X_train_top_3, y_train_resampled)\n",
        "\n",
        "# Predictions on test data using the models\n",
        "test_pred_rf_top_14 = rf_model_top_14.predict(X_test_selected[:, top_14_indices])\n",
        "test_pred_rf_top_5 = rf_model_top_5.predict(X_test_selected[:, top_5_indices])\n",
        "test_pred_rf_top_3 = rf_model_top_3.predict(X_test_selected[:, top_3_indices])\n",
        "\n",
        "# Calculate precision scores for test data\n",
        "precision_rf_top_14 = precision_score(y_test, test_pred_rf_top_14)\n",
        "precision_rf_top_5 = precision_score(y_test, test_pred_rf_top_5)\n",
        "precision_rf_top_3 = precision_score(y_test, test_pred_rf_top_3)\n",
        "\n",
        "print(\"Random Forest Precision with Top 14 Features:\", precision_rf_top_14)\n",
        "print(\"Random Forest Precision with Top 5 Features:\", precision_rf_top_5)\n",
        "print(\"Random Forest Precision with Top 3 Features:\", precision_rf_top_3)"
      ],
      "metadata": {
        "colab": {
          "base_uri": "https://localhost:8080/"
        },
        "id": "TSci3eMNaECW",
        "outputId": "4747f4ad-1a6f-4c7d-e57b-87685e6c5a4b"
      },
      "execution_count": 99,
      "outputs": [
        {
          "output_type": "stream",
          "name": "stdout",
          "text": [
            "Random Forest Precision with Top 14 Features: 0.5945945945945946\n",
            "Random Forest Precision with Top 5 Features: 0.32608695652173914\n",
            "Random Forest Precision with Top 3 Features: 0.2857142857142857\n"
          ]
        }
      ]
    },
    {
      "cell_type": "code",
      "source": [
        "# Cross validation Random Forest with Top 14 and Top 5 feature\n",
        "\n",
        "# Calculate cross-validation precision scores for RandomForest with top 13 features\n",
        "cv_scores_rf_top_14 = cross_val_score(rf_model_top_14, X_train_selected[:, top_14_indices], y_train_resampled, cv=10, scoring='precision')\n",
        "cv_mean_rf_top_14 = cv_scores_rf_top_14.mean()\n",
        "\n",
        "# Calculate cross-validation precision scores for RandomForest with top 5 features\n",
        "cv_scores_rf_top_5 = cross_val_score(rf_model_top_5, X_train_selected[:, top_5_indices], y_train_resampled, cv=10, scoring='precision')\n",
        "cv_mean_rf_top_5 = cv_scores_rf_top_5.mean()\n",
        "\n",
        "cv_scores_rf_top_3 = cross_val_score(rf_model_top_3, X_train_selected[:, top_3_indices], y_train_resampled, cv=10, scoring='precision')\n",
        "cv_mean_rf_top_3 = cv_scores_rf_top_3.mean()\n",
        "\n",
        "print(\"Cross-Validation Precision for RandomForest with Top 14 Features:\", cv_mean_rf_top_14)\n",
        "print(\"Cross-Validation Precision for RandomForest with Top 5 Features:\", cv_mean_rf_top_5)\n",
        "print(\"Cross-Validation Precision for RandomForest with Top 3 Features:\", cv_mean_rf_top_3)"
      ],
      "metadata": {
        "colab": {
          "base_uri": "https://localhost:8080/"
        },
        "id": "xdIGMq69ayMS",
        "outputId": "376794c2-d049-438d-f5df-86ba94d4b54d"
      },
      "execution_count": 100,
      "outputs": [
        {
          "output_type": "stream",
          "name": "stdout",
          "text": [
            "Cross-Validation Precision for RandomForest with Top 14 Features: 0.9420871975319102\n",
            "Cross-Validation Precision for RandomForest with Top 5 Features: 0.9089028444195091\n",
            "Cross-Validation Precision for RandomForest with Top 3 Features: 0.8881667014420179\n"
          ]
        }
      ]
    },
    {
      "cell_type": "markdown",
      "source": [
        "Terlihat bahwa menggunakan Top 14 feature importance menghasilkan CV Precision yang lebih tinggi dari Top 5 dan Top 3. Demi menghindari model yang terlalu kompleks dan kutukan dimensionality, kami memutuskan untuk menggunakan Top 14 feature importance."
      ],
      "metadata": {
        "id": "YEeC33uWcyic"
      }
    },
    {
      "cell_type": "code",
      "source": [
        "# Top 14 Feature Importance\n",
        "\n",
        "selected_feature_indices = [list(X_train.columns).index(feature) for feature in selected_features.index]\n",
        "\n",
        "X_train_selected = X_train_resampled[:, selected_feature_indices]\n",
        "\n",
        "rf_params = {'n_estimators': 100, 'min_samples_split': 5, 'min_samples_leaf': 1, 'max_depth': 50, 'criterion': 'gini'}\n",
        "rf_model = RandomForestClassifier(**rf_params).fit(X_train_selected, y_train_resampled)\n",
        "\n",
        "importance = rf_model.feature_importances_\n",
        "\n",
        "sorted_indices = importance.argsort()[::-1]\n",
        "sorted_importance = importance[sorted_indices]\n",
        "sorted_features = selected_features.index[sorted_indices]\n",
        "\n",
        "# Show only the top 14 feature importance values and features\n",
        "num_top_features = 14\n",
        "for i, (feature, score) in enumerate(zip(sorted_features[:num_top_features], sorted_importance[:num_top_features]), 1):\n",
        "    print(f'{i}. Feature: {feature}, Score: {score:.5f}')\n",
        "\n",
        "plt.bar(sorted_features[:num_top_features], sorted_importance[:num_top_features])\n",
        "plt.xticks(rotation=90)\n",
        "plt.xlabel(\"Features\")\n",
        "plt.ylabel(\"Importance\")\n",
        "plt.title(\"Top 14 Feature Importance for RandomForestClassifier (Descending Order)\")\n",
        "plt.show()"
      ],
      "metadata": {
        "colab": {
          "base_uri": "https://localhost:8080/",
          "height": 856
        },
        "id": "I0MCEJQFbhMh",
        "outputId": "8eca05b7-20d0-4836-de19-63e53b6e2805"
      },
      "execution_count": 101,
      "outputs": [
        {
          "output_type": "stream",
          "name": "stdout",
          "text": [
            "1. Feature: MonthlyIncome, Score: 0.10150\n",
            "2. Feature: YearsWorkingPerCompany, Score: 0.09900\n",
            "3. Feature: Accumulated_Satisfaction, Score: 0.08400\n",
            "4. Feature: Age, Score: 0.07939\n",
            "5. Feature: DailyRate, Score: 0.07790\n",
            "6. Feature: OverTime, Score: 0.06736\n",
            "7. Feature: DistanceFromHome, Score: 0.05712\n",
            "8. Feature: TotalWorkingYears, Score: 0.05706\n",
            "9. Feature: YearsWithCurrManager, Score: 0.04516\n",
            "10. Feature: YearsAtCompany, Score: 0.04484\n",
            "11. Feature: YearsInCurrentRole, Score: 0.03835\n",
            "12. Feature: JobLevel, Score: 0.03707\n",
            "13. Feature: TrainingTimesLastYear, Score: 0.03341\n",
            "14. Feature: StockOptionLevel, Score: 0.03199\n"
          ]
        },
        {
          "output_type": "display_data",
          "data": {
            "text/plain": [
              "<Figure size 640x480 with 1 Axes>"
            ],
            "image/png": "[encoded data removed]"
          },
          "metadata": {}
        }
      ]
    },
    {
      "cell_type": "markdown",
      "source": [
        "Menarik untuk dianalisis lebih lanjut, bahwa kedua fitur baru yang dihasilkan dari ekstraksi fitur-fitur yang sudah ada menempati posisi Top 3 feature importance. Selanjutnya kedua fitur ini menjadi objek menarik untuk ditelaah lebih lanjut untuk diberikan insight dan rekomendasi."
      ],
      "metadata": {
        "id": "3U_fatEKeuS8"
      }
    },
    {
      "cell_type": "code",
      "execution_count": 118,
      "metadata": {
        "id": "xP56drQOA9ij",
        "colab": {
          "base_uri": "https://localhost:8080/",
          "height": 496
        },
        "outputId": "257c079f-2199-4fb4-f287-bdbc26031b63"
      },
      "outputs": [
        {
          "output_type": "display_data",
          "data": {
            "text/plain": [
              "<Figure size 800x500 with 1 Axes>"
            ],
            "image/png": "[encoded data removed]"
          },
          "metadata": {}
        }
      ],
      "source": [
        "# Set the style of seaborn\n",
        "sns.set(style=\"whitegrid\")\n",
        "\n",
        "# Plotting the regression line\n",
        "plt.figure(figsize=(8, 5))\n",
        "sns.regplot(x='YearsWorkingPerCompany', y='Attrition', data=df, logistic=True, y_jitter=0.03)\n",
        "plt.title(\"Regression Line: YearsWorkingPerCompany vs. Attrition\")\n",
        "plt.xlabel(\"YearsWorkingPerCompany\")\n",
        "plt.ylabel(\"Attrition (Yes=1, No=0)\")\n",
        "plt.show()"
      ]
    },
    {
      "cell_type": "code",
      "execution_count": 119,
      "metadata": {
        "id": "2ehJGTSpA9ik",
        "colab": {
          "base_uri": "https://localhost:8080/",
          "height": 496
        },
        "outputId": "cfc77486-c582-4f4f-de77-1541dcd9d6b9"
      },
      "outputs": [
        {
          "output_type": "display_data",
          "data": {
            "text/plain": [
              "<Figure size 800x500 with 1 Axes>"
            ],
            "image/png": "[encoded data removed]"
          },
          "metadata": {}
        }
      ],
      "source": [
        "sns.set(style=\"whitegrid\")\n",
        "\n",
        "# Plotting the regression line\n",
        "plt.figure(figsize=(8, 5))\n",
        "sns.regplot(x='Accumulated_Satisfaction', y='Attrition', data=df, logistic=True, y_jitter=0.03)\n",
        "plt.title(\"Regression Line: Accumulated_Satisfaction vs. Attrition\")\n",
        "plt.xlabel(\"Accumulated_Satisfaction\")\n",
        "plt.ylabel(\"Attrition (Yes=1, No=0)\")\n",
        "plt.show()"
      ]
    },
    {
      "cell_type": "markdown",
      "metadata": {
        "id": "5cxEoPRuA9ik"
      },
      "source": [
        "Grafik di atas menunjukkan bahwa hubungan antara YearsWorkingPerCompany dengan Attrition menunjukkan bahwa semakin besar nilai YearsWorkingPerCompany maka kecenderungan untuk Attrition akan menurun. Hal ini menjelaskan bahwa semakin besar nilai, semakin loyal karyawan tersebut. Dalam upaya meningkatkan loyalitas karyawan, diperlukan aksi nyata oleh perusahaan. Salah satunya dengan melihat fitur Accumulated_Satisfaction yang juga menunjukkan semakin tinggi angka kepuasan karyawan, semakin rendah kecenderungan Attrition dari karyawan itu sendiri. Oleh karena itu, aksi nyata peningkatan kepuasan karyawan secara bersamaan juga akan meningkatkan nilai loyalitas karyawan. Maka, rekomendasi aksi yang dapat dilakukan oleh perusahaan adalah yang berorientasi pada peningkatan faktor kepuasan akumulasi yaitu, Environment Satisfaction, Job Satisfaction, Job Involvement, Relationship Satisfaction dan Worklife Balance karyawan.\n",
        "\n",
        "**Rekomendasi aksi/program:**\n",
        "1. Environment Satisfaction:\n",
        "   - To ensure that the compensation and benefits offered to employees are attractive in order to keep employee morale high. The role of\n",
        "compensation and benefits is critical in hiring and retaining qualified and\n",
        "talented employees. (Sinta, Azmieti K., Setiadi, B., Jumawan, Damayanti, Endah S. and Soehaditama, Josua Panatap. (2023). “Employee Retention Strategy: Analysis Path Career, Compensation Benefit, Organization Commitment & Reward\n",
        "System”. Retrieved\n",
        "from: https://journal.formosapublisher.org/index.php/eajmr/article/view/3672/3404. )\n",
        "\n",
        "  - Uses various rewards or incentives to attract, keep\n",
        "people and motivate them to achieve personal goals and goals organization.\n",
        "(Sinta, Azmieti K., Setiadi, B., Jumawan, Damayanti, Endah S. and Soehaditama, Josua Panatap. (2023). “Employee Retention Strategy: Analysis Path Career, Compensation Benefit, Organization Commitment & Reward\n",
        "System”. Retrieved\n",
        "from: https://journal.formosapublisher.org/index.php/eajmr/article/view/3672/3404. )\n",
        "\n",
        "2. Job Satisfaction:\n",
        "   - Focus on training and development. Identifying the training need and giving appropriate training to the employees make them to enhance their skills and motivate them to reach higher positions.\n",
        "   (Vetrivel, T., Ramesh, S. and M.S, Kamalaveni. (2019). “A REVIEW OF LITERATURE ON EMPLOYEE RETENTION”. Retrieved\n",
        "from: https://www.researchgate.net/publication/335677274. )\n",
        "  - It is essential to conduct a survey to measure the satisfaction level of employees in organizations. The reason\n",
        "behind this is that this would help in understanding the satisfaction level of the employees and steps can be taken\n",
        "to improve the satisfaction level. (Vetrivel, T., Ramesh, S. and M.S, Kamalaveni. (2019). “A REVIEW OF LITERATURE ON EMPLOYEE RETENTION”. Retrieved\n",
        "from: https://www.researchgate.net/publication/335677274. )\n",
        "  - A career path or career path is defined as a set of positions that each\n",
        "employee must go through to reach a certain level of position within a company.  (Sinta, Azmieti K., Setiadi, B., Jumawan, Damayanti, Endah S. and Soehaditama, Josua Panatap. (2023). “Employee Retention Strategy: Analysis Path Career, Compensation Benefit, Organization Commitment & Reward\n",
        "System”. Retrieved\n",
        "from: https://journal.formosapublisher.org/index.php/eajmr/article/view/3672/3404. )\n",
        "  - Security at work place especially in the case of women employees may help in retaining pool of women workforce. (Karumuri, Venkateswarlu and Singareddi, Sriprasanthi. (2014). “EMPLOYEE ATTRITION AND RETENTION: A THEORETICAL PERSPECTIVE”. Retrieved from: https://citeseerx.ist.psu.edu/document?repid=rep1&type=pdf&doi=8a8ba9c73f3e624032e71c31a3cbf1a94f935905. )\n",
        "3. Job Involvement:\n",
        "    - The management should consider the ideas and\n",
        "opinions of employees while any decisions are taken with related to work and other\n",
        "matter. Active participation of employees in the decision making process increases the\n",
        "morale of the employee. (Karumuri, Venkateswarlu and Singareddi, Sriprasanthi. (2014). “EMPLOYEE ATTRITION AND RETENTION: A THEORETICAL PERSPECTIVE”. Retrieved\n",
        "from: https://citeseerx.ist.psu.edu/document?repid=rep1&type=pdf&doi=8a8ba9c73f3e624032e71c31a3cbf1a94f935905. )\n",
        "\n",
        "  - The employees can be empowered in their works by giving autonomy in performing their\n",
        "jobs without more involvement of superiors. (Karumuri, Venkateswarlu and Singareddi, Sriprasanthi. (2014). “EMPLOYEE ATTRITION AND RETENTION: A THEORETICAL PERSPECTIVE”. Retrieved\n",
        "from: https://citeseerx.ist.psu.edu/document?repid=rep1&type=pdf&doi=8a8ba9c73f3e624032e71c31a3cbf1a94f935905. )\n",
        "  - To avoid monotony of work in some jobs, fun related activities, games, get together, stress management\n",
        "programs can be organized. (Vetrivel, T., Ramesh, S. and M.S, Kamalaveni. (2019). “A REVIEW OF LITERATURE ON EMPLOYEE RETENTION”. Retrieved\n",
        "from: https://www.researchgate.net/publication/335677274. )\n",
        "4. Relationship Satisfaction:\n",
        "   - Equality and fairness treatment among the employees would create a sense that everyone is treated as one and the same i.e. there is no bias among the employees. (Vetrivel, T., Ramesh, S. and M.S, Kamalaveni. (2019). “A REVIEW OF LITERATURE ON EMPLOYEE RETENTION”. Retrieved\n",
        "from: https://www.researchgate.net/publication/335677274. )\n",
        "  - It is highly important to conduct exit interview to identify the reasons behind leaving of employees in organizations. This would help in strengthening the strategies for employee retention. (Vetrivel, T., Ramesh, S. and M.S, Kamalaveni. (2019). “A REVIEW OF LITERATURE ON EMPLOYEE RETENTION”. Retrieved\n",
        "from: https://www.researchgate.net/publication/335677274. )\n",
        "  - Mutual trust between the employer and employee must be created so as to bring a feel that employees are part\n",
        "of the organization and they are working not only for their benefit but also for the benefit of the organization\n",
        "and as well as for the benefit of the society.  (Vetrivel, T., Ramesh, S. and M.S, Kamalaveni. (2019). “A REVIEW OF LITERATURE ON EMPLOYEE RETENTION”. Retrieved\n",
        "from: https://www.researchgate.net/publication/335677274. )\n",
        "\n",
        "5. Worklife Balance:\n",
        "   - Work from home can be encouraged in organizations where there is no crèche facility which would boost the\n",
        "morale of the female employees. (Vetrivel, T., Ramesh, S. and M.S, Kamalaveni. (2019). “A REVIEW OF LITERATURE ON EMPLOYEE RETENTION”. Retrieved\n",
        "from: https://www.researchgate.net/publication/335677274. )\n",
        "  - Fair and competitive salaries, performance related incentives may help in retaining the talented employees with the organization for a long period. (Karumuri, Venkateswarlu and Singareddi, Sriprasanthi. (2014). “EMPLOYEE ATTRITION AND RETENTION: A THEORETICAL PERSPECTIVE”. Retrieved\n",
        "from: https://citeseerx.ist.psu.edu/document?repid=rep1&type=pdf&doi=8a8ba9c73f3e624032e71c31a3cbf1a94f935905.)\n",
        "\n",
        "\n",
        "\n",
        "Reference:\n",
        "1.  Vetrivel, T., Ramesh, S. and M.S, Kamalaveni. (2019). “A REVIEW OF LITERATURE ON EMPLOYEE RETENTION”. Retrieved\n",
        "from: https://www.researchgate.net/publication/335677274.\n",
        "2. Karumuri, Venkateswarlu and Singareddi, Sriprasanthi. (2014). “EMPLOYEE ATTRITION AND RETENTION: A THEORETICAL PERSPECTIVE”. Retrieved\n",
        "from: https://citeseerx.ist.psu.edu/document?repid=rep1&type=pdf&doi=8a8ba9c73f3e624032e71c31a3cbf1a94f935905.\n",
        "3. Sinta, Azmieti K., Setiadi, B., Jumawan, Damayanti, Endah S. and Soehaditama, Josua Panatap. (2023). “Employee Retention Strategy: Analysis Path Career, Compensation Benefit, Organization Commitment & Reward\n",
        "System”. Retrieved\n",
        "from: https://journal.formosapublisher.org/index.php/eajmr/article/view/3672/3404.\n"
      ]
    }
  ],
  "metadata": {
    "colab": {
      "provenance": []
    },
    "kernelspec": {
      "display_name": "Python 3 (ipykernel)",
      "language": "python",
      "name": "python3"
    },
    "language_info": {
      "codemirror_mode": {
        "name": "ipython",
        "version": 3
      },
      "file_extension": ".py",
      "mimetype": "text/x-python",
      "name": "python",
      "nbconvert_exporter": "python",
      "pygments_lexer": "ipython3",
      "version": "3.10.9"
    },
    "widgets": {
      "application/vnd.jupyter.widget-state+json": {
        "2cac3b889f864858930c61f7c876f97c": {
          "model_module": "@jupyter-widgets/controls",
          "model_name": "HBoxModel",
          "model_module_version": "1.5.0",
          "state": {
            "_dom_classes": [],
            "_model_module": "@jupyter-widgets/controls",
            "_model_module_version": "1.5.0",
            "_model_name": "HBoxModel",
            "_view_count": null,
            "_view_module": "@jupyter-widgets/controls",
            "_view_module_version": "1.5.0",
            "_view_name": "HBoxView",
            "box_style": "",
            "children": [
              "IPY_MODEL_60789425f61946af82d148fa48816afd",
              "IPY_MODEL_5cd601899afb4b7ba38eababdd5c68b4",
              "IPY_MODEL_aa374835b67d4a8baa98410e72a25bef"
            ],
            "layout": "IPY_MODEL_2af41556e3c84e71a58399919a125de7"
          }
        },
        "60789425f61946af82d148fa48816afd": {
          "model_module": "@jupyter-widgets/controls",
          "model_name": "HTMLModel",
          "model_module_version": "1.5.0",
          "state": {
            "_dom_classes": [],
            "_model_module": "@jupyter-widgets/controls",
            "_model_module_version": "1.5.0",
            "_model_name": "HTMLModel",
            "_view_count": null,
            "_view_module": "@jupyter-widgets/controls",
            "_view_module_version": "1.5.0",
            "_view_name": "HTMLView",
            "description": "",
            "description_tooltip": null,
            "layout": "IPY_MODEL_bc3a0b7370e74cc0b2e84695639d89f0",
            "placeholder": "​",
            "style": "IPY_MODEL_6c2e4046b0aa4ecdaa6a6c968566ad05",
            "value": "Summarize dataset:  18%"
          }
        },
        "5cd601899afb4b7ba38eababdd5c68b4": {
          "model_module": "@jupyter-widgets/controls",
          "model_name": "FloatProgressModel",
          "model_module_version": "1.5.0",
          "state": {
            "_dom_classes": [],
            "_model_module": "@jupyter-widgets/controls",
            "_model_module_version": "1.5.0",
            "_model_name": "FloatProgressModel",
            "_view_count": null,
            "_view_module": "@jupyter-widgets/controls",
            "_view_module_version": "1.5.0",
            "_view_name": "ProgressView",
            "bar_style": "",
            "description": "",
            "description_tooltip": null,
            "layout": "IPY_MODEL_5f0b5862cb9d4e59999e96b9cc243398",
            "max": 5,
            "min": 0,
            "orientation": "horizontal",
            "style": "IPY_MODEL_38a33eb7d79f4be582422c1ed4a9effe",
            "value": 5
          }
        },
        "aa374835b67d4a8baa98410e72a25bef": {
          "model_module": "@jupyter-widgets/controls",
          "model_name": "HTMLModel",
          "model_module_version": "1.5.0",
          "state": {
            "_dom_classes": [],
            "_model_module": "@jupyter-widgets/controls",
            "_model_module_version": "1.5.0",
            "_model_name": "HTMLModel",
            "_view_count": null,
            "_view_module": "@jupyter-widgets/controls",
            "_view_module_version": "1.5.0",
            "_view_name": "HTMLView",
            "description": "",
            "description_tooltip": null,
            "layout": "IPY_MODEL_cb0983eac03449bd9da4aaea9408ea24",
            "placeholder": "​",
            "style": "IPY_MODEL_a6832b59bbf24e2cbba438e6f535bbb1",
            "value": " 47/267 [00:09&lt;01:21,  2.71it/s, scatter TrainingTimesLastYear, Age]"
          }
        },
        "2af41556e3c84e71a58399919a125de7": {
          "model_module": "@jupyter-widgets/base",
          "model_name": "LayoutModel",
          "model_module_version": "1.2.0",
          "state": {
            "_model_module": "@jupyter-widgets/base",
            "_model_module_version": "1.2.0",
            "_model_name": "LayoutModel",
            "_view_count": null,
            "_view_module": "@jupyter-widgets/base",
            "_view_module_version": "1.2.0",
            "_view_name": "LayoutView",
            "align_content": null,
            "align_items": null,
            "align_self": null,
            "border": null,
            "bottom": null,
            "display": null,
            "flex": null,
            "flex_flow": null,
            "grid_area": null,
            "grid_auto_columns": null,
            "grid_auto_flow": null,
            "grid_auto_rows": null,
            "grid_column": null,
            "grid_gap": null,
            "grid_row": null,
            "grid_template_areas": null,
            "grid_template_columns": null,
            "grid_template_rows": null,
            "height": null,
            "justify_content": null,
            "justify_items": null,
            "left": null,
            "margin": null,
            "max_height": null,
            "max_width": null,
            "min_height": null,
            "min_width": null,
            "object_fit": null,
            "object_position": null,
            "order": null,
            "overflow": null,
            "overflow_x": null,
            "overflow_y": null,
            "padding": null,
            "right": null,
            "top": null,
            "visibility": null,
            "width": null
          }
        },
        "bc3a0b7370e74cc0b2e84695639d89f0": {
          "model_module": "@jupyter-widgets/base",
          "model_name": "LayoutModel",
          "model_module_version": "1.2.0",
          "state": {
            "_model_module": "@jupyter-widgets/base",
            "_model_module_version": "1.2.0",
            "_model_name": "LayoutModel",
            "_view_count": null,
            "_view_module": "@jupyter-widgets/base",
            "_view_module_version": "1.2.0",
            "_view_name": "LayoutView",
            "align_content": null,
            "align_items": null,
            "align_self": null,
            "border": null,
            "bottom": null,
            "display": null,
            "flex": null,
            "flex_flow": null,
            "grid_area": null,
            "grid_auto_columns": null,
            "grid_auto_flow": null,
            "grid_auto_rows": null,
            "grid_column": null,
            "grid_gap": null,
            "grid_row": null,
            "grid_template_areas": null,
            "grid_template_columns": null,
            "grid_template_rows": null,
            "height": null,
            "justify_content": null,
            "justify_items": null,
            "left": null,
            "margin": null,
            "max_height": null,
            "max_width": null,
            "min_height": null,
            "min_width": null,
            "object_fit": null,
            "object_position": null,
            "order": null,
            "overflow": null,
            "overflow_x": null,
            "overflow_y": null,
            "padding": null,
            "right": null,
            "top": null,
            "visibility": null,
            "width": null
          }
        },
        "6c2e4046b0aa4ecdaa6a6c968566ad05": {
          "model_module": "@jupyter-widgets/controls",
          "model_name": "DescriptionStyleModel",
          "model_module_version": "1.5.0",
          "state": {
            "_model_module": "@jupyter-widgets/controls",
            "_model_module_version": "1.5.0",
            "_model_name": "DescriptionStyleModel",
            "_view_count": null,
            "_view_module": "@jupyter-widgets/base",
            "_view_module_version": "1.2.0",
            "_view_name": "StyleView",
            "description_width": ""
          }
        },
        "5f0b5862cb9d4e59999e96b9cc243398": {
          "model_module": "@jupyter-widgets/base",
          "model_name": "LayoutModel",
          "model_module_version": "1.2.0",
          "state": {
            "_model_module": "@jupyter-widgets/base",
            "_model_module_version": "1.2.0",
            "_model_name": "LayoutModel",
            "_view_count": null,
            "_view_module": "@jupyter-widgets/base",
            "_view_module_version": "1.2.0",
            "_view_name": "LayoutView",
            "align_content": null,
            "align_items": null,
            "align_self": null,
            "border": null,
            "bottom": null,
            "display": null,
            "flex": null,
            "flex_flow": null,
            "grid_area": null,
            "grid_auto_columns": null,
            "grid_auto_flow": null,
            "grid_auto_rows": null,
            "grid_column": null,
            "grid_gap": null,
            "grid_row": null,
            "grid_template_areas": null,
            "grid_template_columns": null,
            "grid_template_rows": null,
            "height": null,
            "justify_content": null,
            "justify_items": null,
            "left": null,
            "margin": null,
            "max_height": null,
            "max_width": null,
            "min_height": null,
            "min_width": null,
            "object_fit": null,
            "object_position": null,
            "order": null,
            "overflow": null,
            "overflow_x": null,
            "overflow_y": null,
            "padding": null,
            "right": null,
            "top": null,
            "visibility": null,
            "width": null
          }
        },
        "38a33eb7d79f4be582422c1ed4a9effe": {
          "model_module": "@jupyter-widgets/controls",
          "model_name": "ProgressStyleModel",
          "model_module_version": "1.5.0",
          "state": {
            "_model_module": "@jupyter-widgets/controls",
            "_model_module_version": "1.5.0",
            "_model_name": "ProgressStyleModel",
            "_view_count": null,
            "_view_module": "@jupyter-widgets/base",
            "_view_module_version": "1.2.0",
            "_view_name": "StyleView",
            "bar_color": null,
            "description_width": ""
          }
        },
        "cb0983eac03449bd9da4aaea9408ea24": {
          "model_module": "@jupyter-widgets/base",
          "model_name": "LayoutModel",
          "model_module_version": "1.2.0",
          "state": {
            "_model_module": "@jupyter-widgets/base",
            "_model_module_version": "1.2.0",
            "_model_name": "LayoutModel",
            "_view_count": null,
            "_view_module": "@jupyter-widgets/base",
            "_view_module_version": "1.2.0",
            "_view_name": "LayoutView",
            "align_content": null,
            "align_items": null,
            "align_self": null,
            "border": null,
            "bottom": null,
            "display": null,
            "flex": null,
            "flex_flow": null,
            "grid_area": null,
            "grid_auto_columns": null,
            "grid_auto_flow": null,
            "grid_auto_rows": null,
            "grid_column": null,
            "grid_gap": null,
            "grid_row": null,
            "grid_template_areas": null,
            "grid_template_columns": null,
            "grid_template_rows": null,
            "height": null,
            "justify_content": null,
            "justify_items": null,
            "left": null,
            "margin": null,
            "max_height": null,
            "max_width": null,
            "min_height": null,
            "min_width": null,
            "object_fit": null,
            "object_position": null,
            "order": null,
            "overflow": null,
            "overflow_x": null,
            "overflow_y": null,
            "padding": null,
            "right": null,
            "top": null,
            "visibility": null,
            "width": null
          }
        },
        "a6832b59bbf24e2cbba438e6f535bbb1": {
          "model_module": "@jupyter-widgets/controls",
          "model_name": "DescriptionStyleModel",
          "model_module_version": "1.5.0",
          "state": {
            "_model_module": "@jupyter-widgets/controls",
            "_model_module_version": "1.5.0",
            "_model_name": "DescriptionStyleModel",
            "_view_count": null,
            "_view_module": "@jupyter-widgets/base",
            "_view_module_version": "1.2.0",
            "_view_name": "StyleView",
            "description_width": ""
          }
        }
      }
    }
  },
  "nbformat": 4,
  "nbformat_minor": 0
}